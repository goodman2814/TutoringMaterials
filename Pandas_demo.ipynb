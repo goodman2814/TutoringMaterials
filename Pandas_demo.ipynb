{
 "cells": [
  {
   "cell_type": "code",
   "execution_count": 2,
   "metadata": {},
   "outputs": [],
   "source": [
    "import pandas as pd\n",
    "import numpy as np\n",
    "import matplotlib.pyplot as plt"
   ]
  },
  {
   "cell_type": "code",
   "execution_count": 3,
   "metadata": {},
   "outputs": [
    {
     "ename": "NameError",
     "evalue": "name 'uniform' is not defined",
     "output_type": "error",
     "traceback": [
      "\u001b[1;31m---------------------------------------------------------------------------\u001b[0m",
      "\u001b[1;31mNameError\u001b[0m                                 Traceback (most recent call last)",
      "\u001b[1;32m<ipython-input-3-42c30d6ee375>\u001b[0m in \u001b[0;36m<module>\u001b[1;34m\u001b[0m\n\u001b[0;32m      1\u001b[0m \u001b[0mday\u001b[0m \u001b[1;33m=\u001b[0m \u001b[0mpd\u001b[0m\u001b[1;33m.\u001b[0m\u001b[0mSeries\u001b[0m\u001b[1;33m(\u001b[0m\u001b[1;33m[\u001b[0m\u001b[1;34m'monday'\u001b[0m\u001b[1;33m,\u001b[0m \u001b[1;34m'tuesday'\u001b[0m\u001b[1;33m,\u001b[0m \u001b[1;34m'wednesday'\u001b[0m\u001b[1;33m,\u001b[0m \u001b[1;34m'thursday'\u001b[0m\u001b[1;33m,\u001b[0m \u001b[1;34m'friday'\u001b[0m\u001b[1;33m]\u001b[0m\u001b[1;33m)\u001b[0m\u001b[1;33m\u001b[0m\u001b[1;33m\u001b[0m\u001b[0m\n\u001b[0;32m      2\u001b[0m \u001b[0mmeal\u001b[0m \u001b[1;33m=\u001b[0m \u001b[0mpd\u001b[0m\u001b[1;33m.\u001b[0m\u001b[0mSeries\u001b[0m\u001b[1;33m(\u001b[0m\u001b[1;33m[\u001b[0m\u001b[1;34m'lunch'\u001b[0m\u001b[1;33m,\u001b[0m \u001b[1;34m'dinner'\u001b[0m\u001b[1;33m,\u001b[0m \u001b[1;34m'lunch'\u001b[0m\u001b[1;33m,\u001b[0m \u001b[1;34m'dinner'\u001b[0m\u001b[1;33m,\u001b[0m \u001b[1;34m'lunch'\u001b[0m\u001b[1;33m]\u001b[0m\u001b[1;33m)\u001b[0m\u001b[1;33m\u001b[0m\u001b[1;33m\u001b[0m\u001b[0m\n\u001b[1;32m----> 3\u001b[1;33m \u001b[0mbudget\u001b[0m \u001b[1;33m=\u001b[0m \u001b[0mpd\u001b[0m\u001b[1;33m.\u001b[0m\u001b[0mSeries\u001b[0m\u001b[1;33m(\u001b[0m\u001b[1;33m[\u001b[0m\u001b[1;34m'${:0.2f}'\u001b[0m\u001b[1;33m.\u001b[0m\u001b[0mformat\u001b[0m\u001b[1;33m(\u001b[0m\u001b[0muniform\u001b[0m\u001b[1;33m(\u001b[0m\u001b[1;36m8\u001b[0m\u001b[1;33m,\u001b[0m\u001b[1;36m25\u001b[0m\u001b[1;33m)\u001b[0m\u001b[1;33m)\u001b[0m \u001b[1;32mfor\u001b[0m \u001b[0mi\u001b[0m \u001b[1;32min\u001b[0m \u001b[0mrange\u001b[0m\u001b[1;33m(\u001b[0m\u001b[1;36m5\u001b[0m\u001b[1;33m)\u001b[0m\u001b[1;33m]\u001b[0m\u001b[1;33m)\u001b[0m\u001b[1;33m\u001b[0m\u001b[1;33m\u001b[0m\u001b[0m\n\u001b[0m\u001b[0;32m      4\u001b[0m \u001b[0mmac_nut\u001b[0m \u001b[1;33m=\u001b[0m \u001b[0mpd\u001b[0m\u001b[1;33m.\u001b[0m\u001b[0mSeries\u001b[0m\u001b[1;33m(\u001b[0m\u001b[1;33m[\u001b[0m\u001b[1;34m'fiber'\u001b[0m\u001b[1;33m,\u001b[0m \u001b[1;34m'protein'\u001b[0m\u001b[1;33m,\u001b[0m \u001b[1;34m'fiber'\u001b[0m\u001b[1;33m,\u001b[0m \u001b[1;34m'protein'\u001b[0m\u001b[1;33m,\u001b[0m \u001b[1;34m'fats'\u001b[0m\u001b[1;33m]\u001b[0m\u001b[1;33m)\u001b[0m\u001b[1;33m\u001b[0m\u001b[1;33m\u001b[0m\u001b[0m\n\u001b[0;32m      5\u001b[0m \u001b[0mfood\u001b[0m \u001b[1;33m=\u001b[0m \u001b[0mpd\u001b[0m\u001b[1;33m.\u001b[0m\u001b[0mSeries\u001b[0m\u001b[1;33m(\u001b[0m\u001b[1;33m[\u001b[0m\u001b[1;34m'sandwich'\u001b[0m\u001b[1;33m,\u001b[0m \u001b[1;34m'tacos'\u001b[0m\u001b[1;33m,\u001b[0m \u001b[1;34m'salad'\u001b[0m\u001b[1;33m,\u001b[0m \u001b[1;34m'stir-fry'\u001b[0m\u001b[1;33m,\u001b[0m \u001b[1;34m'pizza'\u001b[0m\u001b[1;33m]\u001b[0m\u001b[1;33m)\u001b[0m\u001b[1;33m\u001b[0m\u001b[1;33m\u001b[0m\u001b[0m\n",
      "\u001b[1;32m<ipython-input-3-42c30d6ee375>\u001b[0m in \u001b[0;36m<listcomp>\u001b[1;34m(.0)\u001b[0m\n\u001b[0;32m      1\u001b[0m \u001b[0mday\u001b[0m \u001b[1;33m=\u001b[0m \u001b[0mpd\u001b[0m\u001b[1;33m.\u001b[0m\u001b[0mSeries\u001b[0m\u001b[1;33m(\u001b[0m\u001b[1;33m[\u001b[0m\u001b[1;34m'monday'\u001b[0m\u001b[1;33m,\u001b[0m \u001b[1;34m'tuesday'\u001b[0m\u001b[1;33m,\u001b[0m \u001b[1;34m'wednesday'\u001b[0m\u001b[1;33m,\u001b[0m \u001b[1;34m'thursday'\u001b[0m\u001b[1;33m,\u001b[0m \u001b[1;34m'friday'\u001b[0m\u001b[1;33m]\u001b[0m\u001b[1;33m)\u001b[0m\u001b[1;33m\u001b[0m\u001b[1;33m\u001b[0m\u001b[0m\n\u001b[0;32m      2\u001b[0m \u001b[0mmeal\u001b[0m \u001b[1;33m=\u001b[0m \u001b[0mpd\u001b[0m\u001b[1;33m.\u001b[0m\u001b[0mSeries\u001b[0m\u001b[1;33m(\u001b[0m\u001b[1;33m[\u001b[0m\u001b[1;34m'lunch'\u001b[0m\u001b[1;33m,\u001b[0m \u001b[1;34m'dinner'\u001b[0m\u001b[1;33m,\u001b[0m \u001b[1;34m'lunch'\u001b[0m\u001b[1;33m,\u001b[0m \u001b[1;34m'dinner'\u001b[0m\u001b[1;33m,\u001b[0m \u001b[1;34m'lunch'\u001b[0m\u001b[1;33m]\u001b[0m\u001b[1;33m)\u001b[0m\u001b[1;33m\u001b[0m\u001b[1;33m\u001b[0m\u001b[0m\n\u001b[1;32m----> 3\u001b[1;33m \u001b[0mbudget\u001b[0m \u001b[1;33m=\u001b[0m \u001b[0mpd\u001b[0m\u001b[1;33m.\u001b[0m\u001b[0mSeries\u001b[0m\u001b[1;33m(\u001b[0m\u001b[1;33m[\u001b[0m\u001b[1;34m'${:0.2f}'\u001b[0m\u001b[1;33m.\u001b[0m\u001b[0mformat\u001b[0m\u001b[1;33m(\u001b[0m\u001b[0muniform\u001b[0m\u001b[1;33m(\u001b[0m\u001b[1;36m8\u001b[0m\u001b[1;33m,\u001b[0m\u001b[1;36m25\u001b[0m\u001b[1;33m)\u001b[0m\u001b[1;33m)\u001b[0m \u001b[1;32mfor\u001b[0m \u001b[0mi\u001b[0m \u001b[1;32min\u001b[0m \u001b[0mrange\u001b[0m\u001b[1;33m(\u001b[0m\u001b[1;36m5\u001b[0m\u001b[1;33m)\u001b[0m\u001b[1;33m]\u001b[0m\u001b[1;33m)\u001b[0m\u001b[1;33m\u001b[0m\u001b[1;33m\u001b[0m\u001b[0m\n\u001b[0m\u001b[0;32m      4\u001b[0m \u001b[0mmac_nut\u001b[0m \u001b[1;33m=\u001b[0m \u001b[0mpd\u001b[0m\u001b[1;33m.\u001b[0m\u001b[0mSeries\u001b[0m\u001b[1;33m(\u001b[0m\u001b[1;33m[\u001b[0m\u001b[1;34m'fiber'\u001b[0m\u001b[1;33m,\u001b[0m \u001b[1;34m'protein'\u001b[0m\u001b[1;33m,\u001b[0m \u001b[1;34m'fiber'\u001b[0m\u001b[1;33m,\u001b[0m \u001b[1;34m'protein'\u001b[0m\u001b[1;33m,\u001b[0m \u001b[1;34m'fats'\u001b[0m\u001b[1;33m]\u001b[0m\u001b[1;33m)\u001b[0m\u001b[1;33m\u001b[0m\u001b[1;33m\u001b[0m\u001b[0m\n\u001b[0;32m      5\u001b[0m \u001b[0mfood\u001b[0m \u001b[1;33m=\u001b[0m \u001b[0mpd\u001b[0m\u001b[1;33m.\u001b[0m\u001b[0mSeries\u001b[0m\u001b[1;33m(\u001b[0m\u001b[1;33m[\u001b[0m\u001b[1;34m'sandwich'\u001b[0m\u001b[1;33m,\u001b[0m \u001b[1;34m'tacos'\u001b[0m\u001b[1;33m,\u001b[0m \u001b[1;34m'salad'\u001b[0m\u001b[1;33m,\u001b[0m \u001b[1;34m'stir-fry'\u001b[0m\u001b[1;33m,\u001b[0m \u001b[1;34m'pizza'\u001b[0m\u001b[1;33m]\u001b[0m\u001b[1;33m)\u001b[0m\u001b[1;33m\u001b[0m\u001b[1;33m\u001b[0m\u001b[0m\n",
      "\u001b[1;31mNameError\u001b[0m: name 'uniform' is not defined"
     ]
    }
   ],
   "source": [
    "day = pd.Series(['monday', 'tuesday', 'wednesday', 'thursday', 'friday'])\n",
    "meal = pd.Series(['lunch', 'dinner', 'lunch', 'dinner', 'lunch'])\n",
    "budget = pd.Series(['${:0.2f}'.format(uniform(8,25)) for i in range(5)])\n",
    "mac_nut = pd.Series(['fiber', 'protein', 'fiber', 'protein', 'fats'])\n",
    "food = pd.Series(['sandwich', 'tacos', 'salad', 'stir-fry', 'pizza'])\n",
    "prep_time = pd.Series([randint(12, 30) for i in range(5)])"
   ]
  },
  {
   "cell_type": "code",
   "execution_count": null,
   "metadata": {},
   "outputs": [],
   "source": [
    "meal_schedule = pd.DataFrame()\n",
    "\n",
    "meal_schedule['day'] = day\n",
    "meal_schedule['meal'] = meal\n",
    "meal_schedule['mac_nut'] = mac_nut\n",
    "meal_schedule['budget'] = budget\n",
    "meal_schedule['food_type'] = food\n",
    "meal_schedule['prep_time'] = prep_time\n",
    "\n",
    "meal_schedule"
   ]
  },
  {
   "cell_type": "code",
   "execution_count": null,
   "metadata": {},
   "outputs": [],
   "source": [
    "meal_schedule.head(2)"
   ]
  },
  {
   "cell_type": "code",
   "execution_count": null,
   "metadata": {},
   "outputs": [],
   "source": []
  }
 ],
 "metadata": {
  "kernelspec": {
   "display_name": "Python 3",
   "language": "python",
   "name": "python3"
  },
  "language_info": {
   "codemirror_mode": {
    "name": "ipython",
    "version": 3
   },
   "file_extension": ".py",
   "mimetype": "text/x-python",
   "name": "python",
   "nbconvert_exporter": "python",
   "pygments_lexer": "ipython3",
   "version": "3.7.7"
  }
 },
 "nbformat": 4,
 "nbformat_minor": 4
}
