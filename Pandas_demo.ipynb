{
 "cells": [
  {
   "cell_type": "code",
   "execution_count": 5,
   "metadata": {},
   "outputs": [],
   "source": [
    "import pandas as pd\n",
    "import numpy as np\n",
    "import matplotlib.pyplot as plt\n",
    "from random import uniform, randint"
   ]
  },
  {
   "cell_type": "code",
   "execution_count": 6,
   "metadata": {},
   "outputs": [],
   "source": [
    "day = pd.Series(['monday', 'tuesday', 'wednesday', 'thursday', 'friday'])\n",
    "meal = pd.Series(['lunch', 'dinner', 'lunch', 'dinner', 'lunch'])\n",
    "budget = pd.Series(['${:0.2f}'.format(uniform(8,25)) for i in range(5)])\n",
    "mac_nut = pd.Series(['fiber', 'protein', 'fiber', 'protein', 'fats'])\n",
    "food = pd.Series(['sandwich', 'tacos', 'salad', 'stir-fry', 'pizza'])\n",
    "prep_time = pd.Series([randint(12, 30) for i in range(5)])"
   ]
  },
  {
   "cell_type": "code",
   "execution_count": 7,
   "metadata": {},
   "outputs": [
    {
     "output_type": "execute_result",
     "data": {
      "text/plain": [
       "         day    meal  mac_nut  budget food_type  prep_time\n",
       "0     monday   lunch    fiber  $14.19  sandwich         28\n",
       "1    tuesday  dinner  protein  $16.93     tacos         23\n",
       "2  wednesday   lunch    fiber  $13.85     salad         20\n",
       "3   thursday  dinner  protein   $8.32  stir-fry         22\n",
       "4     friday   lunch     fats  $19.17     pizza         26"
      ],
      "text/html": "<div>\n<style scoped>\n    .dataframe tbody tr th:only-of-type {\n        vertical-align: middle;\n    }\n\n    .dataframe tbody tr th {\n        vertical-align: top;\n    }\n\n    .dataframe thead th {\n        text-align: right;\n    }\n</style>\n<table border=\"1\" class=\"dataframe\">\n  <thead>\n    <tr style=\"text-align: right;\">\n      <th></th>\n      <th>day</th>\n      <th>meal</th>\n      <th>mac_nut</th>\n      <th>budget</th>\n      <th>food_type</th>\n      <th>prep_time</th>\n    </tr>\n  </thead>\n  <tbody>\n    <tr>\n      <th>0</th>\n      <td>monday</td>\n      <td>lunch</td>\n      <td>fiber</td>\n      <td>$14.19</td>\n      <td>sandwich</td>\n      <td>28</td>\n    </tr>\n    <tr>\n      <th>1</th>\n      <td>tuesday</td>\n      <td>dinner</td>\n      <td>protein</td>\n      <td>$16.93</td>\n      <td>tacos</td>\n      <td>23</td>\n    </tr>\n    <tr>\n      <th>2</th>\n      <td>wednesday</td>\n      <td>lunch</td>\n      <td>fiber</td>\n      <td>$13.85</td>\n      <td>salad</td>\n      <td>20</td>\n    </tr>\n    <tr>\n      <th>3</th>\n      <td>thursday</td>\n      <td>dinner</td>\n      <td>protein</td>\n      <td>$8.32</td>\n      <td>stir-fry</td>\n      <td>22</td>\n    </tr>\n    <tr>\n      <th>4</th>\n      <td>friday</td>\n      <td>lunch</td>\n      <td>fats</td>\n      <td>$19.17</td>\n      <td>pizza</td>\n      <td>26</td>\n    </tr>\n  </tbody>\n</table>\n</div>"
     },
     "metadata": {},
     "execution_count": 7
    }
   ],
   "source": [
    "meal_schedule = pd.DataFrame()\n",
    "\n",
    "meal_schedule['day'] = day\n",
    "meal_schedule['meal'] = meal\n",
    "meal_schedule['mac_nut'] = mac_nut\n",
    "meal_schedule['budget'] = budget\n",
    "meal_schedule['food_type'] = food\n",
    "meal_schedule['prep_time'] = prep_time\n",
    "\n",
    "meal_schedule"
   ]
  },
  {
   "cell_type": "code",
   "execution_count": 13,
   "metadata": {},
   "outputs": [
    {
     "output_type": "execute_result",
     "data": {
      "text/plain": [
       "       day    meal  mac_nut  budget food_type  prep_time\n",
       "0   monday   lunch    fiber  $14.19  sandwich         28\n",
       "1  tuesday  dinner  protein  $16.93     tacos         23"
      ],
      "text/html": "<div>\n<style scoped>\n    .dataframe tbody tr th:only-of-type {\n        vertical-align: middle;\n    }\n\n    .dataframe tbody tr th {\n        vertical-align: top;\n    }\n\n    .dataframe thead th {\n        text-align: right;\n    }\n</style>\n<table border=\"1\" class=\"dataframe\">\n  <thead>\n    <tr style=\"text-align: right;\">\n      <th></th>\n      <th>day</th>\n      <th>meal</th>\n      <th>mac_nut</th>\n      <th>budget</th>\n      <th>food_type</th>\n      <th>prep_time</th>\n    </tr>\n  </thead>\n  <tbody>\n    <tr>\n      <th>0</th>\n      <td>monday</td>\n      <td>lunch</td>\n      <td>fiber</td>\n      <td>$14.19</td>\n      <td>sandwich</td>\n      <td>28</td>\n    </tr>\n    <tr>\n      <th>1</th>\n      <td>tuesday</td>\n      <td>dinner</td>\n      <td>protein</td>\n      <td>$16.93</td>\n      <td>tacos</td>\n      <td>23</td>\n    </tr>\n  </tbody>\n</table>\n</div>"
     },
     "metadata": {},
     "execution_count": 13
    }
   ],
   "source": [
    "meal_schedule.head(2)"
   ]
  },
  {
   "cell_type": "code",
   "execution_count": 14,
   "metadata": {},
   "outputs": [
    {
     "output_type": "execute_result",
     "data": {
      "text/plain": [
       "             day   meal  mac_nut  budget food_type  prep_time\n",
       "count          5      5        5       5         5   5.000000\n",
       "unique         5      2        3       5         5        NaN\n",
       "top     thursday  lunch  protein  $14.19     salad        NaN\n",
       "freq           1      3        2       1         1        NaN\n",
       "mean         NaN    NaN      NaN     NaN       NaN  23.800000\n",
       "std          NaN    NaN      NaN     NaN       NaN   3.193744\n",
       "min          NaN    NaN      NaN     NaN       NaN  20.000000\n",
       "25%          NaN    NaN      NaN     NaN       NaN  22.000000\n",
       "50%          NaN    NaN      NaN     NaN       NaN  23.000000\n",
       "75%          NaN    NaN      NaN     NaN       NaN  26.000000\n",
       "max          NaN    NaN      NaN     NaN       NaN  28.000000"
      ],
      "text/html": "<div>\n<style scoped>\n    .dataframe tbody tr th:only-of-type {\n        vertical-align: middle;\n    }\n\n    .dataframe tbody tr th {\n        vertical-align: top;\n    }\n\n    .dataframe thead th {\n        text-align: right;\n    }\n</style>\n<table border=\"1\" class=\"dataframe\">\n  <thead>\n    <tr style=\"text-align: right;\">\n      <th></th>\n      <th>day</th>\n      <th>meal</th>\n      <th>mac_nut</th>\n      <th>budget</th>\n      <th>food_type</th>\n      <th>prep_time</th>\n    </tr>\n  </thead>\n  <tbody>\n    <tr>\n      <th>count</th>\n      <td>5</td>\n      <td>5</td>\n      <td>5</td>\n      <td>5</td>\n      <td>5</td>\n      <td>5.000000</td>\n    </tr>\n    <tr>\n      <th>unique</th>\n      <td>5</td>\n      <td>2</td>\n      <td>3</td>\n      <td>5</td>\n      <td>5</td>\n      <td>NaN</td>\n    </tr>\n    <tr>\n      <th>top</th>\n      <td>thursday</td>\n      <td>lunch</td>\n      <td>protein</td>\n      <td>$14.19</td>\n      <td>salad</td>\n      <td>NaN</td>\n    </tr>\n    <tr>\n      <th>freq</th>\n      <td>1</td>\n      <td>3</td>\n      <td>2</td>\n      <td>1</td>\n      <td>1</td>\n      <td>NaN</td>\n    </tr>\n    <tr>\n      <th>mean</th>\n      <td>NaN</td>\n      <td>NaN</td>\n      <td>NaN</td>\n      <td>NaN</td>\n      <td>NaN</td>\n      <td>23.800000</td>\n    </tr>\n    <tr>\n      <th>std</th>\n      <td>NaN</td>\n      <td>NaN</td>\n      <td>NaN</td>\n      <td>NaN</td>\n      <td>NaN</td>\n      <td>3.193744</td>\n    </tr>\n    <tr>\n      <th>min</th>\n      <td>NaN</td>\n      <td>NaN</td>\n      <td>NaN</td>\n      <td>NaN</td>\n      <td>NaN</td>\n      <td>20.000000</td>\n    </tr>\n    <tr>\n      <th>25%</th>\n      <td>NaN</td>\n      <td>NaN</td>\n      <td>NaN</td>\n      <td>NaN</td>\n      <td>NaN</td>\n      <td>22.000000</td>\n    </tr>\n    <tr>\n      <th>50%</th>\n      <td>NaN</td>\n      <td>NaN</td>\n      <td>NaN</td>\n      <td>NaN</td>\n      <td>NaN</td>\n      <td>23.000000</td>\n    </tr>\n    <tr>\n      <th>75%</th>\n      <td>NaN</td>\n      <td>NaN</td>\n      <td>NaN</td>\n      <td>NaN</td>\n      <td>NaN</td>\n      <td>26.000000</td>\n    </tr>\n    <tr>\n      <th>max</th>\n      <td>NaN</td>\n      <td>NaN</td>\n      <td>NaN</td>\n      <td>NaN</td>\n      <td>NaN</td>\n      <td>28.000000</td>\n    </tr>\n  </tbody>\n</table>\n</div>"
     },
     "metadata": {},
     "execution_count": 14
    }
   ],
   "source": [
    "meal_schedule.describe(include='all')\n"
   ]
  },
  {
   "cell_type": "code",
   "execution_count": null,
   "metadata": {},
   "outputs": [],
   "source": []
  }
 ],
 "metadata": {
  "kernelspec": {
   "display_name": "Python 3",
   "language": "python",
   "name": "python3"
  },
  "language_info": {
   "codemirror_mode": {
    "name": "ipython",
    "version": 3
   },
   "file_extension": ".py",
   "mimetype": "text/x-python",
   "name": "python",
   "nbconvert_exporter": "python",
   "pygments_lexer": "ipython3",
   "version": "3.7.7-final"
  }
 },
 "nbformat": 4,
 "nbformat_minor": 4
}