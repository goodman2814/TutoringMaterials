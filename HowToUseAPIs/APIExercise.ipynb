{
 "cells": [
  {
   "cell_type": "markdown",
   "metadata": {},
   "source": [
    "## Introduction to APIs:\n",
    "### Part 0:\n",
    "- This notebook is following [this guide](https://rapidapi.com/blog/how-to-use-an-api-with-python/) if you want to know more\n",
    "- Navigate to [RapidAPI.com](https://rapidapi.com/signup) and sign up for a free account\n",
    "    - This is a repository of documented APIs that you can access once you have created an account\n",
    "- Once you have created your free account, use the search function to find: Dino Ipsum\n",
    "    - This is an api created to generate filler text for websites so they can see text formatting before real text has been formalized.\n",
    "    - It outputs the Latin names of dinosaurs based on the parameters of the request\n",
    "- Click on the [Dino Ipsum api](https://rapidapi.com/alexnormand/api/dino-ipsum) to review the documentation and see some sample calls\n",
    "- In the 'Code Snippets' pane, you will see a language picker dropdown menu\n",
    "- Select Python->Requests\n",
    "    - This generates a sample request using the API and Python 3's request library\n",
    "- You can copy this code block into an editor and run the script to use the API\n",
    "    - It will contain your secret key!\n",
    "\n",
    ">##### IMPORTANT NOTE:\n",
    ">- The 'x-rapidapi-key' is unique to your account. Keep it safe!\n",
    ">- Later in this notebook, we will see how to store it in a separate file\n",
    ">    - That way if the Python code is shared with anyone else, the secret key will not be shown in the code\n",
    "\n",
    "\n",
    "    \n",
    "### Part 1:\n",
    "- Import the requests library into the cell labeled # Part 1.a.\n",
    "    >import requests\n",
    "    \n",
    "    - This library allows Python to send RESTful messages\n",
    "- Copy the example command from RapidAPI into the cell labeled # Part 1.b.\n",
    "    - The server generates output based on the values given through the 'params' argument in the JSON\n",
    "- Print the status code of the message\n",
    "    >print(response.status_code)\n",
    "- Print the text of the response\n",
    "    >print(response.text)\n",
    "- Run the cell\n",
    "\n",
    "### Part 2:\n",
    "- In the cell labeled # Part 1.a., import the json library\n",
    "    - import json\n",
    "        - This library allows Python to read and process JSON objects\n",
    "- In the same directory as your notebook, create a file called 'rapid-api-key.json' and open it in a text editor\n",
    "- Write your JSON file by typing the following line and saving: \n",
    "    >{\"rapidapi-key\":\"paste_your_rapidapi_key_here\"}\n",
    "    \n",
    "    - This creates a key-value pair that can be read using Python's json library\n",
    "    - Remember to paste-in your key\n",
    "- Remove your key from your python code\n",
    "\n",
    "- In the cell labeled # Part 2\n",
    "    - Create a variable called 'key' and set it to None\n",
    "        - This will initialize a variable so if the 'with' fails, the variable will still exist, it just won't be what we expect\n",
    "    - Use the 'with' keyword in association with open() to open your new file\n",
    "        >with open('./name_of_your_file', 'r') as key_file:\n",
    "        \n",
    "        - Note: the './' at the beginning of the file path tells the interpreter that it needs to look for the file in the current directory\n",
    "        - The 'r' argument indicates that we want to read from the file\n",
    "            - If we want to write, the argument would be 'w'\n",
    "    - Create a variable called 'contents' and assign it to json.loads(key_file)\n",
    "        - This will read the JSON file and translate it into a python dictionary\n",
    "        >contents = json.loads(key_file)\n",
    "    - Assign 'key' to contents['rapidapi-key']\n",
    "        >key = contents['rapidapi-key']\n",
    "        \n",
    "        - 'key' now holds the value of your RapidAPI key!\n",
    "- In the cell labeled # Part 1.b.\n",
    "    - Replace the value of 'x-rapidapi-key' with key (the variable)\n",
    "- Now run all of the cells\n",
    "    - The results should be the same\n",
    "\n",
    "\n",
    "### Part 3:\n",
    "- Change the format parameter of the querystring object in the Part 1.b. cell to \"text\"\n",
    "    - \"format\":\"text\"\n",
    "    - This will change the output from html to pure text\n",
    "        - A little easier for processing\n",
    "- In the cell labeled # Part 3\n",
    "    - Create a variable called text_split as follows\n",
    "        >text_split = response.text.replace('.', '')split()\n",
    "        \n",
    "        - This will replace the period with '' (empty string/a string of length 0) as well as split the string on ' ' (space)\n",
    "            - Even thought there's nothing between the quotation marks this is still a string => ''\n",
    "    - Create a new 'with' block and open a new file in the current directory\n",
    "        >with open('./dino-names.txt', 'w') as dino_names:\n",
    "        \n",
    "        - If the interpreter doesn't find a file with the name that you are looking for, it creates one!\n",
    "    - Indented under the with-statement, create a for-each loop to iterate over response.text.split()\n",
    "        >for name in text_split:\n",
    "    - Indented under the for-each loop, create a variable called 'line' and assign it to name + '\\n'\n",
    "        >line = name + '\\n'\n",
    "        \n",
    "        - This '\\n' is the newline character\n",
    "            - It tells programs that read text to end the current line and start a new one\n",
    "    - Still indented, write 'line' to the file that you've just created\n",
    "        >dino_names.write(line)\n",
    "        \n",
    "- Run the cell\n",
    "- Navigate to your file explorer and find the file named 'dino-names.txt'\n",
    "- Open the file by double-clicking and view it in your computer's default text editor!\n",
    "\n",
    ">### Bonus:\n",
    ">What adjustments would need to be made to make the dino names alphabetized?"
   ]
  },
  {
   "cell_type": "code",
   "execution_count": 45,
   "metadata": {},
   "outputs": [],
   "source": [
    "# Part 1.a.\n"
   ]
  },
  {
   "cell_type": "code",
   "execution_count": 46,
   "metadata": {},
   "outputs": [],
   "source": [
    "# Part 2\n",
    "# NOTE: Place your code for part 2 here\n",
    "\n"
   ]
  },
  {
   "cell_type": "code",
   "execution_count": 41,
   "metadata": {},
   "outputs": [],
   "source": [
    "# Part 1.b.\n",
    "url = \"https://alexnormand-dino-ipsum.p.rapidapi.com/\"\n",
    "\n",
    "# Try changing the parameters to experiment with the output\n",
    "querystring = {\n",
    "    \"format\":\"text\",\n",
    "    \"words\":\"30\",\n",
    "    \"paragraphs\":\"1\"\n",
    "}\n",
    "\n",
    "headers = {\n",
    "    'x-rapidapi-host': \"alexnormand-dino-ipsum.p.rapidapi.com\",\n",
    "    'x-rapidapi-key': \"<INSERT_YOUR_RAPIDAPI_KEY_HERE>\"    # This value will change when you reach part 2\n",
    "}\n",
    "\n",
    "response = requests.request(\"GET\", url, headers=headers, params=querystring)\n"
   ]
  },
  {
   "cell_type": "code",
   "execution_count": 42,
   "metadata": {},
   "outputs": [],
   "source": [
    "# Print the status code of response\n"
   ]
  },
  {
   "cell_type": "code",
   "execution_count": 43,
   "metadata": {},
   "outputs": [],
   "source": [
    "# Print the text of the response and take a note of it's structure\n"
   ]
  },
  {
   "cell_type": "code",
   "execution_count": 44,
   "metadata": {},
   "outputs": [],
   "source": [
    "# Part 3\n"
   ]
  },
  {
   "cell_type": "code",
   "execution_count": null,
   "metadata": {},
   "outputs": [],
   "source": []
  }
 ],
 "metadata": {
  "kernelspec": {
   "display_name": "Python 3",
   "language": "python",
   "name": "python3"
  },
  "language_info": {
   "codemirror_mode": {
    "name": "ipython",
    "version": 3
   },
   "file_extension": ".py",
   "mimetype": "text/x-python",
   "name": "python",
   "nbconvert_exporter": "python",
   "pygments_lexer": "ipython3",
   "version": "3.7.7"
  }
 },
 "nbformat": 4,
 "nbformat_minor": 4
}
