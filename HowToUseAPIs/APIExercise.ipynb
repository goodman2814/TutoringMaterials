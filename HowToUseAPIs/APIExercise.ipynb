{
 "metadata": {
  "language_info": {
   "codemirror_mode": {
    "name": "ipython",
    "version": 3
   },
   "file_extension": ".py",
   "mimetype": "text/x-python",
   "name": "python",
   "nbconvert_exporter": "python",
   "pygments_lexer": "ipython3",
   "version": "3.7.7-final"
  },
  "orig_nbformat": 2,
  "kernelspec": {
   "name": "Python 3.7.7 64-bit",
   "display_name": "Python 3.7.7 64-bit",
   "metadata": {
    "interpreter": {
     "hash": "c9c193319ebd2a89754c1a4aa4516d58b41ef9df354ad04f80777c68efefc770"
    }
   }
  }
 },
 "nbformat": 4,
 "nbformat_minor": 2,
 "cells": [
  {
   "source": [
    "### Prompt:\n",
    "    * This is a mini-project that will take a little bit of extra work\n",
    "        * This notebook is using [this guide](https://rapidapi.com/blog/how-to-use-an-api-with-python/) if you want to know more\n",
    "    * Navigate to [RapidAPI.com](https://rapidapi.com/signup) and sign up for a free account\n",
    "        * This is a repository of documented APIs that you can access once you have created an account"
   ],
   "cell_type": "markdown",
   "metadata": {}
  },
  {
   "cell_type": "code",
   "execution_count": 3,
   "metadata": {},
   "outputs": [],
   "source": [
    "import requests"
   ]
  },
  {
   "cell_type": "code",
   "execution_count": 13,
   "metadata": {},
   "outputs": [
    {
     "output_type": "stream",
     "name": "stdout",
     "text": [
      "200\n\n"
     ]
    }
   ],
   "source": [
    "response = requests.get(url=\"https://alexnormand-dino-ipsum.p.rapidapi.com/?format=text&words=10&paragraphs=1\", headers={\"X-RapidAPI-Host\": \"alexnormand-dino-ipsum.p.rapidapi.com\", \"X-RapidAPi-Key\": \"7f601574f8mshbf918201551b182p172838jsnff21ff8d9543\"}, params={\"words\":\"30\", \"paragraphs\":\"30\"})\n",
    "\n",
    "print(response.status_code)\n",
    "print(response.text)"
   ]
  },
  {
   "cell_type": "code",
   "execution_count": 14,
   "metadata": {},
   "outputs": [
    {
     "output_type": "stream",
     "name": "stdout",
     "text": [
      "{'Access-Control-Allow-Headers': 'Content-Type, Authorization, Content-Length, X-Requested-With', 'Access-Control-Allow-Methods': 'GET', 'Access-Control-Allow-Origin': '*', 'Content-Encoding': 'gzip', 'Content-Type': 'text/plain; charset=UTF-8', 'Date': 'Sun, 01 Nov 2020 22:09:29 GMT', 'Server': 'RapidAPI-1.2.6', 'Vary': 'Accept-Encoding', 'Via': '1.1 vegur', 'X-Powered-By': 'Express', 'X-RapidAPI-Region': 'AWS - us-east-1', 'X-RapidAPI-Version': '1.2.6', 'Content-Length': '0', 'Connection': 'keep-alive'}\n"
     ]
    }
   ],
   "source": [
    "print(response.headers)"
   ]
  },
  {
   "cell_type": "code",
   "execution_count": 15,
   "metadata": {},
   "outputs": [
    {
     "output_type": "stream",
     "name": "stdout",
     "text": [
      "<p>Lufengosaurus Qiupalong Zhuchengceratops Dystylosaurus Sahaliyania Syntarsus Hanssuesia Amphisaurus Lourinhasaurus Quaesitosaurus Szechuanosaurus Pedopenna Orkoraptor Nqwebasaurus Efraasia Dilong Apatosaurus Crataeomus Australodocus Ampelosaurus Yimenosaurus Lucianosaurus Aepisaurus Antarctopelta Polyonax Aletopelta Oplosaurus Protognathus Polacanthoides Mei.</p><p>Aetonyx Brachyceratops Succinodon Austrocheirus Ignavusaurus Eolosaurus Microcoelus Luoyanggia Puertasaurus Streptospondylus Gilmoreosaurus Ruyangosaurus Albertosaurus Telmatosaurus Euoplocephalus Emausaurus Patagosaurus Coahuilaceratops Liaoceratops Patagosaurus Bactrosaurus Orthomerus Sphaerotholus Mendozasaurus Lagosuchus Banji Dravidosaurus Termatosaurus Fulgurotherium Bonapartenykus.</p><p>Gigantoraptor Gideonmantellia Basutodon Raptorex Naashoibitosaurus Puertasaurus Pachyrhinosaurus Levnesovia Zatomus Archaeopteryx Tanycolagreus Aggiosaurus Dinheirosaurus Pachysuchus Griphornis Denversaurus Thecodontosaurus Altirhinus Dollodon Szechuanosaurus Dysganus Shanshanosaurus Bolong Vagaceratops Kerberosaurus Micropachycephalosaurus Petrobrasaurus Qantassaurus Helioceratops Anchisaurus.</p><p>Variraptor Palaeosauriscus Walgettosuchus Bicentenaria Goyocephale Siamosaurus Pareiasaurus Compsosuchus Rhodanosaurus Rubeosaurus Struthiomimus Alectrosaurus Stokesosaurus Yuanmousaurus Xenoposeidon Tsaagan Asylosaurus Dicraeosaurus Microceratus Manidens Aliwalia Plateosaurus Lisboasaurus Palaeoctonus Conchoraptor Khaan Hypselosaurus Narambuenatitan Protiguanodon Barilium.</p><p>Jenghizkhan Kangnasaurus Yuanmousaurus Stenonychosaurus Saurophaganax Tawa Changchunsaurus Tawa Tyrannotitan Proa Sahaliyania Mussaurus Silesaurus Chungkingosaurus Dromaeosaurus Streptospondylus Empaterias Magnapaulia Altirhinus Zephyrosaurus Quilmesaurus Iguanodon Edmontonia Eshanosaurus Vulcanodon Peishansaurus Richardoestesia Tuojiangosaurus Thespesius Jiangshanosaurus.</p><p>Talos Agustinia Lambeosaurus Camposaurus Othnielia Pekinosaurus Suuwassea Anthodon Graciliceratops Leipsanosaurus Spinostropheus Tianyuraptor Indosuchus Borealosaurus Lucianosaurus Chubutisaurus Xuwulong Huabeisaurus Naashoibitosaurus Anchisaurus Archaeornis Scaphonyx Hallopus Euoplocephalus Sinornithomimus Xianshanosaurus Qinlingosaurus Sauroplites Wulagasaurus Avipes.</p><p>Hoplosaurus Caudipteryx Hortalotarsus Suchosaurus Pachysuchus Zatomus Spondylosoma Shaochilong Machimosaurus Protohadros Corythosaurus Pneumatoarthrus Notoceratops Alnashetri Talos Garudimimus Rileya Atrociraptor Protoceratops Panphagia Qantassaurus Indosaurus Lophostropheus Secernosaurus Protorosaurus Walkeria Thecocoelurus Struthiomimus Similicaudipteryx Nemegtia.</p><p>Ekrixinatosaurus Nanotyrannus Lambeosaurus Neosodon Acristavus Coloradia Xixiasaurus Protiguanodon Crichtonsaurus Zanclodon Yueosaurus Rinchenia Diplodocus Hecatasaurus Compsognathus Griphornis Triceratops Kelmayisaurus Poposaurus Polacanthoides Sulaimanisaurus Stegoceras Archaeornithomimus Teratophoneus Richardoestesia Propanoplosaurus Mamenchisaurus Wellnhoferia Lagerpeton Diamantinasaurus.</p><p>Condorraptor Brachyrophus Zephyrosaurus Texasetes Kayentavenator Helopus Xiongguanlong Ornitholestes Cristatusaurus Silesaurus Becklespinax Martharaptor Pentaceratops Serendipaceratops Yunnanosaurus Coloradia Yutyrannus Osmakasaurus Saltopus Zapalasaurus Sauroniops Chubutisaurus Hypsirophus Suchosaurus Podokesaurus Mirischia Aegyptosaurus Xianshanosaurus Plateosaurus Valdoraptor.</p><p>Atlascopcosaurus Rebbachisaurus Pegomastax Palaeoctonus Ponerosteus Heterosaurus Sonorasaurus Albertadromeus Appalachiosaurus Aegyptosaurus Brachyrophus Asiaceratops Dinheirosaurus Coelosaurus Tianyuraptor Wintonotitan Stephanosaurus Azendohsaurus Rapetosaurus Stenonychosaurus Tochisaurus Shunosaurus Yaverlandia Velociraptor Deltadromeus Orthogoniosaurus Limusaurus Euhelopus Medusaceratops Cetiosaurus.</p><p>Arrhinoceratops Deuterosaurus Pterospondylus Doratodon Chaoyangsaurus Jeholornis Bicentenaria Garudimimus Hylaeosaurus Archaeopteryx Therosaurus Dianchungosaurus Majungasaurus Velocisaurus Ampelosaurus Arstanosaurus Squalodon Scleromochlus Palaeocursornis Australodocus Telmatosaurus Jianchangosaurus Siluosaurus Shanag Echinodon Comahuesaurus Arkharavia Neuquenraptor Rileya Kayentavenator.</p><p>Huabeisaurus Euskelosaurus Crataeomus Cathetosaurus Piatnitzkysaurus Loricatosaurus Oryctodromeus Acristavus Onychosaurus Conchoraptor Alocodon Embasaurus Atlantosaurus Puertasaurus Liliensternus Elosaurus Cardiodon Spinosaurus Gravitholus Balaur Titanosaurus Valdosaurus Ichthyovenator Tawa Gargoyleosaurus Archaeornithomimus Bistahieversor Gigantoraptor Albisaurus Teyuwasu.</p><p>Rubeosaurus Camarasaurus Tanycolagreus Velocipes Gobiceratops Leptoceratops Iguanodon Pachyrhinosaurus Tomodon Camptonotus Nemegtomaia Stegosaurides Helioceratops Dracopelta Acrocanthosaurus Pegomastax Chienkosaurus Antarctopelta Bonapartenykus Kuszholia Chaoyangosaurus Aurornis Lambeosaurus Stegosaurides Piveteausaurus Arrhinoceratops Hypsilophodon Stegopelta Sauropelta Asylosaurus.</p><p>Lambeosaurus Rapator Eolambia Rinchenia Achelousaurus Laelaps Tylosteus Dryptosaurus Galtonia Craspedodon Aucasaurus Sinocalliopteryx Chingkankousaurus Proceratosaurus Nopcsaspondylus Gojirasaurus Colepiocephale Rahonavis Belodon Geranosaurus Sinosauropteryx Velociraptor Denversaurus Sinopliosaurus Aristosaurus Epidexipteryx Palaeosaurus Siluosaurus Amargatitanis Ponerosteus.</p><p>Alocodon Elmisaurus Pycnonemosaurus Mahakala Lufengocephalus Hesperosaurus Kotasaurus Ampelosaurus Iuticosaurus Mojoceratops Datousaurus Hexing Philovenator Bellusaurus Cetiosaurus Aucasaurus Arizonasaurus Tornieria Xinjiangovenator Ruyangosaurus Acrocanthosaurus Prosaurolophus Maleevosaurus Chubutisaurus Limnornis Secernosaurus Yandusaurus Jintasaurus Orthogoniosaurus Shanyangosaurus.</p><p>Rileyasuchus Kentrosaurus Fukuiraptor Lusotitan Cardiodon Bambiraptor Avaceratops Dinodocus Coronosaurus Acrocanthosaurus Eupodosaurus Titanoceratops Amargasaurus Brachytaenius Phyllodon Qantassaurus Kemkemia Pukyongosaurus Deuterosaurus Kosmoceratops Eucnemesaurus Neuquenraptor Maxakalisaurus Agathaumas Amtosaurus Geminiraptor Avaceratops Chuanjiesaurus Iguanacolossus Tianyulong.</p><p>Tornieria Hadrosaurus Manospondylus Technosaurus Camposaurus Archaeornithoides Griphornis Bravoceratops Shantungosaurus Erketu Compsosuchus Kundurosaurus Erlicosaurus Beipiaosaurus Jurapteryx Microceratops Tawasaurus Olorotitan Cumnoria Neuquenraptor Chirostenotes Pradhania Ichthyornis dispar Aegyptosaurus Ischisaurus Stokesosaurus Jaxartosaurus Hylaeosaurus Anatosaurus Stenotholus.</p><p>Osmakasaurus Thescelosaurus Deinodon Giganotosaurus Jeholosaurus Hoplitosaurus Gongbusaurus Zuniceratops Tianzhenosaurus Laelaps Carnotaurus Dracopelta Kileskus Chuanjiesaurus Rileya Clarencea Longosaurus Ornithomimoides Omnivoropteryx Gobititan Clepsysaurus Dystrophaeus Niobrarasaurus Rinchenia Agilisaurus Rahonavis Chondrosteosaurus Troodon Campylodoniscus Crichtonsaurus.</p><p>Caenagnathus Protognathosaurus Baotianmansaurus Aorun Trachodon Aorun Diracodon Leaellynasaura Panamericansaurus Jaklapallisaurus Patagosaurus Yaverlandia Dakotadon Edmarka Nemegtomaia Prenocephale Majungasaurus Sinornithomimus Andesaurus Xenotarsosaurus Chebsaurus Rayososaurus Anabisetia Eotriceratops Lexovisaurus Breviceratops Dynamosaurus Limusaurus Embasaurus Agilisaurus.</p><p>Isanosaurus Sahaliyania Aetonyx Glacialisaurus Zuolong Calamosaurus Tornieria Tatankaceratops Hexing Atacamatitan Raptorex Archaeodontosaurus Teinurosaurus Torvosaurus Eucoelophysis Blasisaurus Wadhurstia Dromaeosauroides Lufengocephalus Stygivenator Hulsanpes Cystosaurus Walgettosuchus Leyesaurus Qiaowanlong Albalophosaurus Qiupalong Rocasaurus Jubbulpuria Limaysaurus.</p><p>Ligabuesaurus Muyelensaurus Thecospondylus Paralititan Kuszholia Gigantspinosaurus Marmarospondylus Nopcsaspondylus Hulsanpes Zanabazar Mononykus Isisaurus Basutodon Chubutisaurus Duriatitan Marmarospondylus Tarascosaurus Dryptosaurus Limnosaurus Crosbysaurus Edmarka Galesaurus Clarencea Jurapteryx Wuerhosaurus Gryponyx Gobititan Tenontosaurus Protoceratops Brachyceratops.</p><p>Anatotitan Hikanodon Scipionyx Pterospondylus Phuwiangosaurus Macrophalangia Pterospondylus Isanosaurus Nqwebasaurus Chassternbergia Plateosauravus Leptoceratops Achillobator Kryptops Gobiceratops Ceratonykus Saltopus Eupodosaurus Histriasaurus Palaeoscincus Aristosaurus Titanoceratops Tichosteus Angulomastacator Actiosaurus Gasosaurus Minotaurasaurus Fabrosaurus Rubeosaurus Ratchasimasaurus.</p><p>Altispinax Caudipteryx Protoceratops Chasmosaurus Citipati Calamosaurus Elachistosuchus Fusuisaurus Eosinopteryx Tienshanosaurus Lesothosaurus Aepisaurus Aviatyrannis Saltopus Anabisetia Fabrosaurus Ichthyovenator Vagaceratops Saturnalia Ilokelesia Ligabueino Wintonotitan Leptospondylus Dandakosaurus Ignavusaurus Elaltitan Pelorosaurus Harpymimus Xinjiangovenator Riojasaurus.</p><p>Edmontosaurus Massospondylus Alnashetri Deinodon Nemegtosaurus Sinovenator Eshanosaurus Aliwalia Albertonykus Chebsaurus Amtosaurus Eolambia Sinornithomimus Koreaceratops Valdoraptor Hesperosaurus Orinosaurus Udanoceratops Edmarka Ankylosaurus Bonapartenykus Bruhathkayosaurus Rachitrema Struthiosaurus Parasaurolophus Latirhinus Hypacrosaurus Atrociraptor Eucoelophysis Rileya.</p><p>Astrodonius Hanssuesia Ankylosaurus Pachysauriscus Tehuelchesaurus Pachysaurus Teinurosaurus Morinosaurus Cumnoria Polacanthoides Archaeornithoides Ostafrikasaurus Glacialisaurus Dyslocosaurus Futalognkosaurus Unescoceratops Haplocanthosaurus Peishansaurus Eosinopteryx Tatankaceratops Sanpasaurus Torvosaurus Isanosaurus Siamosaurus Macrurosaurus Daspletosaurus Albertaceratops Velocisaurus Riojasuchus Jaxartosaurus.</p><p>Stereocephalus Staurikosaurus Mendozasaurus Serendipaceratops Wakinosaurus Colepiocephale Eucnemesaurus Elopteryx Bactrosaurus Beishanlong Sauraechinodon Falcarius Naashoibitosaurus Protohadros Monolophosaurus Demandasaurus Pteropelyx Albertonykus Jintasaurus Heterosaurus Gigantosaurus Duriatitan Deuterosaurus Xuanhanosaurus Lirainosaurus Sahaliyania Agathaumas Brasileosaurus Segisaurus Eshanosaurus.</p><p>Patagosaurus Sauropelta Montanoceratops Scelidosaurus Gryphoceratops Ignavusaurus Mendozasaurus Stegoceras Isisaurus Leaellynasaura Atlantosaurus Becklespinax Zephyrosaurus Spinosaurus Dianchungosaurus Agilisaurus Hypacrosaurus Lamplughsaura Spinosuchus Gorgosaurus Hanssuesia Rahonavis Lucianosaurus Nanyangosaurus Dryptosaurus Siluosaurus Lanasaurus Hypselorhachis Skorpiovenator Zigongosaurus.</p><p>Linhevenator Futalognkosaurus Anabisetia Stegosaurus Lametasaurus Isanosaurus Rachitrema Suzhousaurus Luoyanggia Minmi Sauraechinodon Klamelisaurus Gilmoreosaurus Triceratops Erectopus Pachysaurus Szechuanosaurus Coelophysis Deinonychus Aggiosaurus Indosaurus Gresslyosaurus Dinotyrannus Lesothosaurus Leyesaurus Jiangjunosaurus Acanthopholis Levnesovia Albalophosaurus Pachysuchus.</p><p>Angulomastacator Zhongyuansaurus Palaeocursornis Panamericansaurus Lamplughsaura Tylosteus Venenosaurus Ferganocephale Ankylosaurus Judiceratops Lusitanosaurus Amurosaurus Nyasasaurus Scleromochlus Suchosaurus Theiophytalia Quilmesaurus Acanthopholis Orosaurus Saurolophus Orodromeus Ornitholestes Anserimimus Tsaagan Opisthocoelicaudia Auroraceratops Balochisaurus Tehuelchesaurus Altispinax Protognathosaurus.</p><p>Rahona Antarctopelta Arizonasaurus Rhoetosaurus Bruhathkayosaurus Zapalasaurus Chasmosaurus Leptospondylus Sauropelta Dryosaurus Longosaurus Gongxianosaurus Leonerasaurus Acristavus Compsognathus Amphicoelias Tenontosaurus Fukuiraptor Laevisuchus Walgettosuchus Aetonyx Draconyx Pachysauriscus Tyrannotitan Antetonitrus Muttaburrasaurus Laelaps Fukuisaurus Marisaurus Machimosaurus.</p>\n"
     ]
    }
   ],
   "source": [
    "url = \"https://alexnormand-dino-ipsum.p.rapidapi.com/\"\n",
    "\n",
    "querystring = {\"format\":\"html\",\"words\":\"30\",\"paragraphs\":\"30\"}\n",
    "\n",
    "headers = {\n",
    "    'x-rapidapi-host': \"alexnormand-dino-ipsum.p.rapidapi.com\",\n",
    "    'x-rapidapi-key': \"7f601574f8mshbf918201551b182p172838jsnff21ff8d9543\"\n",
    "    }\n",
    "\n",
    "response = requests.request(\"GET\", url, headers=headers, params=querystring)\n",
    "\n",
    "print(response.text)"
   ]
  },
  {
   "cell_type": "code",
   "execution_count": null,
   "metadata": {},
   "outputs": [],
   "source": []
  }
 ]
}