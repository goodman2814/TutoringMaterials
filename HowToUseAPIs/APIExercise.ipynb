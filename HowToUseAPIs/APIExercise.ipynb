{
 "cells": [
  {
   "cell_type": "markdown",
   "metadata": {},
   "source": [
    "## Introduction to APIs:\n",
    "### Part 1:\n",
    "- This notebook is following [this guide](https://rapidapi.com/blog/how-to-use-an-api-with-python/) if you want to know more\n",
    "- Navigate to [RapidAPI.com](https://rapidapi.com/signup) and sign up for a free account\n",
    "    - This is a repository of documented APIs that you can access once you have created an account\n",
    "- Once you have created your free account, use the search function to find: Dino Ipsum\n",
    "    - This is an api created to generate filler text for websites so they can see text formatting before real text has been formalized.\n",
    "    - It outputs the Latin names of dinosaurs based on the parameters of the request\n",
    "- Click on the [Dino Ipsum api](https://rapidapi.com/alexnormand/api/dino-ipsum) to review the documentation and see some sample calls\n",
    "- In the 'Code Snippets' pane, you will see a language picker dropdown menu\n",
    "- Select Python->Requests\n",
    "    - This generates a sample request using the API and Python 3's request library\n",
    "- You can copy this code block into an editor and run the script to use the API\n",
    "    - It will contain your secret key!\n",
    "\n",
    ">##### IMPORTANT NOTE:\n",
    ">- The 'x-rapidapi-key' is unique to your account. Keep it safe!\n",
    ">- Later in this notebook, we will see how to store it in a separate file\n",
    ">    - That way if the Python code is shared with anyone else, the secret key will not be shown in the code\n",
    "- The server calculates and generates output based on the parameters given through the 'params' argument in the JSON\n",
    "- Print the text of the response\n",
    "    - print(response.text)\n",
    "\n",
    "\n",
    "### Part 2:\n",
    "- In the same directory as your notebook, create a file called 'rapid-api-key.json' and open it in a text editor\n",
    "- Write your JSON file by typing \"{rapidapi-key:<paste_your_rapidapi_key_here>}\"\n",
    "    - This creates a key-value pair that can be read using Python's json library\n",
    "    - Remember to paste-in your key\n",
    "- Remove your key from your python code\n",
    "\n",
    "- Use the 'with' keyword in association with open() to open your new file\n",
    "    - with open('./name_of_your_file') as key_file:\n",
    "        - (Note: the './' at the beginning of the file path tells the interpreter that it needs to look for the file in the current directory)\n",
    "        - Create a variable called 'key' and set it to the value of \n",
    "- Create a variable called contents as the file parsed as json using the load() function from the json library\n",
    "    - contents = json.load(key_file)\n",
    "- Create a variable called key as the 'rapidapi-key' attribute of contents\n",
    "    - key = contents['rapidapi-key']\n",
    "\n",
    "\n",
    "### Part 3:\n",
    "\n",
    "\n",
    "\n",
    "\n"
   ]
  },
  {
   "cell_type": "code",
   "execution_count": 1,
   "metadata": {},
   "outputs": [],
   "source": [
    "# Part 1.a.\n",
    "import requests"
   ]
  },
  {
   "cell_type": "code",
   "execution_count": 2,
   "metadata": {},
   "outputs": [],
   "source": [
    "# Part 2\n",
    "import json\n",
    "\n",
    "# NOTE: Place your code for part 2 here\n",
    "\n",
    "key = None\n",
    "with open(r'./rapid-api-key.json') as key_file:\n",
    "    data = json.load(key_file)\n",
    "    key = data['rapidapi-key']"
   ]
  },
  {
   "cell_type": "code",
   "execution_count": 8,
   "metadata": {},
   "outputs": [
    {
     "name": "stdout",
     "output_type": "stream",
     "text": [
      "{\"message\":\"You are not subscribed to this API.\"}\n"
     ]
    }
   ],
   "source": [
    "# Part 1.b.\n",
    "url = \"https://alexnormand-dino-ipsum.p.rapidapi.com/\"\n",
    "\n",
    "# Try changing the 'words' and 'paragraphs' parameters to experiment with the output\n",
    "querystring = {\n",
    "    \"format\":\"json\",\n",
    "    \"words\":\"30\",\n",
    "    \"paragraphs\":\"1\"\n",
    "}\n",
    "\n",
    "headers = {\n",
    "    'x-rapidapi-host': \"alexnormand-dino-ipsum.p.rapidapi.com\",\n",
    "    'x-rapidapi-key': \"<INSERT_YOUR_RAPIDAPI_KEY_HERE>\"    # This value will change when you reach part 2\n",
    "}\n",
    "\n",
    "response = requests.request(\"GET\", url, headers=headers, params=querystring)\n",
    "\n",
    "print(response.text)\n"
   ]
  },
  {
   "cell_type": "markdown",
   "metadata": {},
   "source": []
  },
  {
   "cell_type": "code",
   "execution_count": 23,
   "metadata": {},
   "outputs": [],
   "source": [
    "import json"
   ]
  },
  {
   "cell_type": "code",
   "execution_count": 6,
   "metadata": {},
   "outputs": [],
   "source": []
  },
  {
   "cell_type": "code",
   "execution_count": 7,
   "metadata": {},
   "outputs": [
    {
     "name": "stdout",
     "output_type": "stream",
     "text": [
      "<p>Torvosaurus Xixiposaurus Pachysauriscus Pegomastax Graciliceratops Orthogoniosaurus Ceratops Zuniceratops Pachysaurops Cruxicheiros Saltasaurus Drusilasaura Cladeiodon Saurophagus Gasosaurus Opisthocoelicaudia Styracosaurus Arrhinoceratops Paranthodon Eomamenchisaurus Kryptops Stegosaurides Uberabatitan Austrosaurus Walgettosuchus Unaysaurus Sterrholophus Longisquama Nodocephalosaurus Gobititan.</p>\n"
     ]
    }
   ],
   "source": [
    "url = \"https://alexnormand-dino-ipsum.p.rapidapi.com/\"\n",
    "\n",
    "# Try changing the 'words' and 'paragraphs' parameters to experiment with the output\n",
    "querystring = {\n",
    "    \"format\":\"html\",\n",
    "    \"words\":\"30\",\n",
    "    \"paragraphs\":\"1\"}\n",
    "\n",
    "headers = {\n",
    "    'x-rapidapi-host': \"alexnormand-dino-ipsum.p.rapidapi.com\",\n",
    "    'x-rapidapi-key': key    # TODO: Change this line to equal the value that was read from your file\n",
    "    }\n",
    "\n",
    "response = requests.request(\"GET\", url, headers=headers, params=querystring)\n",
    "\n",
    "print(response.text)\n"
   ]
  },
  {
   "cell_type": "code",
   "execution_count": null,
   "metadata": {},
   "outputs": [],
   "source": []
  }
 ],
 "metadata": {
  "kernelspec": {
   "display_name": "Python 3",
   "language": "python",
   "name": "python3"
  },
  "language_info": {
   "codemirror_mode": {
    "name": "ipython",
    "version": 3
   },
   "file_extension": ".py",
   "mimetype": "text/x-python",
   "name": "python",
   "nbconvert_exporter": "python",
   "pygments_lexer": "ipython3",
   "version": "3.7.7"
  }
 },
 "nbformat": 4,
 "nbformat_minor": 4
}
