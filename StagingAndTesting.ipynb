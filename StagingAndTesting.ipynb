{
 "cells": [
  {
   "cell_type": "markdown",
   "metadata": {},
   "source": [
    "# While loop exercise\n",
    "* Create a variable called user_age and set it to 1\n",
    "  * user_age = 1\n",
    "  * This must be created before the loop, so the loop knows which variable to evaluate\n",
    "* Create a loop where the break condition is when user_age is equal to 0\n",
    "  * while user_age > 0:\n",
    "    * This loop will continue until user_age is 0\n",
    "  * Within the loop:\n",
    "    * ask for the user's age and update user_age as an int\n",
    "      * user_age = int(input('What is your age?: '))\n",
    "        * Remember to cast the user input to an int in order to compare it to other numbers\n",
    "    * if the user's age is under 21\n",
    "      * print \"You can't even drink\" \n",
    "      * if the user's age is under 16\n",
    "          * print \"But at least you can drive\"\n",
    "      * Else, if the user's age is over 16\n",
    "        * print \"And, you can't drive!?\"\n",
    "    * Else if the user's age is over 21\n",
    "      * If the user is over 40\n",
    "        * Print \"They call this 'over the hill'\"\n",
    "          * If the user is over 65\n",
    "            * print \"Are you retired? Because, you should really retire\"\n",
    "      * Else If the user's age is over 25\n",
    "        * print \"Hey, you can rent a car!\"\n",
    "      * Else\n",
    "        * print \"Nothing really happens to you for a while\""
   ]
  },
  {
   "cell_type": "code",
   "execution_count": null,
   "metadata": {},
   "outputs": [],
   "source": []
  },
  {
   "cell_type": "markdown",
   "metadata": {},
   "source": [
    "# For loop exercise\n",
    "* A common exercise to learn repeated operations, such as loops, is to calculate the Fibonacci sequence\n",
    "  * The Fibonacci sequence is a numerical series where the next number is the sum of the two previous numbers\n",
    "    * 1, 1, 2, 3, 5, 8, 13, 21, 34, 55, 89, 144...\n",
    "  * The first two numbers are 1 and 1\n",
    "* Initialize two integer variables\n",
    "  * num1 = 0\n",
    "  * num2 = 1\n",
    "* Save user input in a variable named 'sequence_length'\n",
    "  * sequence_length = int(input('How long should the sequence be?: '))\n",
    "    * Cast it to an int to do a little math\n",
    "* Initialize a list called 'fibonacci_sequence' and set it to an empty list\n",
    "  * fibonacci_sequence = []\n",
    "* Initialize a for loop with an iterator named 'iterator' and use sequence_length as the range for the for loop iterations\n",
    "  * for iterator in range(sequence_length):\n",
    "* This loop will calculate the Fibonacci sequence up to the number specified by the user\n",
    "* Within the for loop:\n",
    "  * Initialize a variable named sum_of_nums\n",
    "    * Set it to the sum of num1 and num2\n",
    "       * sum_of_nums = num1 + num2\n",
    "    * This variable will hold the value of the sum while the other two variables change their values\n",
    "  * Update the value of num1 to that of num2\n",
    "    * num1 = num2\n",
    "  * Update the value of num2 to that of sum_of_nums\n",
    "    * num2 = sum_of_nums\n",
    "  * Append num1 to fibonacci_sequence\n",
    "    * fibonacci_sequence.append(num1)\n",
    "* Outside of the loop, print fibonacci_sequence to the screen"
   ]
  },
  {
   "cell_type": "code",
   "execution_count": null,
   "metadata": {},
   "outputs": [],
   "source": []
  },
  {
   "cell_type": "markdown",
   "metadata": {},
   "source": [
    "# Variable scope\n",
    "* Create a global variable called global_var and set it to 10\n",
    "* Create a function called scope()\n",
    "    * This function takes no parameters\n",
    "    * Create a variable called local_var and set it to 1\n",
    "    * Attempt to modify the value of global_var within the function\n",
    "        * global_var = global_var + local_var\n",
    "* Call the function\n",
    "    * scope()\n",
    "    \n",
    "* You will see that attempting to modify the value of the global variable inside of the function results in an error\n",
    "    * The function is looking for a variable called global_var within the local scope, but one has not been declared\n",
    "* Use the global keyword to show the function where to look for global_var\n",
    "    * add this line below the function declaration:\n",
    "        * global global_var\n",
    "    * This tells the function that it should reference a variable called 'global_var' at the global scope\n",
    "* Rerun the function\n",
    "* After the function call, attempt print(local_var)\n",
    "* This will result in an error because local_var only exists while scope() is executing\n",
    "    * It is deleted after the function completes\n"
   ]
  }
 ],
 "metadata": {
  "kernelspec": {
   "display_name": "Python 3",
   "language": "python",
   "name": "python3"
  },
  "language_info": {
   "codemirror_mode": {
    "name": "ipython",
    "version": 3
   },
   "file_extension": ".py",
   "mimetype": "text/x-python",
   "name": "python",
   "nbconvert_exporter": "python",
   "pygments_lexer": "ipython3",
   "version": "3.7.7"
  }
 },
 "nbformat": 4,
 "nbformat_minor": 4
}
