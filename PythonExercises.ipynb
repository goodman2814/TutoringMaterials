{
 "cells": [
  {
   "cell_type": "markdown",
   "metadata": {},
   "source": [
    "# Exercises"
   ]
  },
  {
   "cell_type": "markdown",
   "metadata": {},
   "source": [
    "## Lists"
   ]
  },
  {
   "cell_type": "markdown",
   "metadata": {},
   "source": [
    "* This goes into a lot of the functionality of operating on a list. Some of the methods required here were not discussed in our lessons.\n",
    "\n",
    "* Construct an empty list called: poem\n",
    "* poem = [ ]\n",
    "* Use .append() to add three strings to the list\n",
    "* 'the butcher'\n",
    "* 'the baker'\n",
    "* 'and the candlestick-maker'\n",
    "* Print the list to the screen with print()\n",
    "* Use .insert()\n",
    "* poem.insert(0, 'rub-a-dub-dub')\n",
    "* poem.insert(1, 'three men in a tub')\n",
    "* poem.insert(2, 'and who do you think they be?')\n",
    "* Print the list to the screen with print()\n",
    "* Use .append() to add: 'and all of them out to sea'\n",
    "* Create a variable called jobs_list by slicing the list\n",
    "* jobs_list = poem[3:6]\n",
    "* Print jobs to output with print()\n",
    "* Create a variable called jobs_str by using .join()\n",
    "* assign it to ', '.join(jobs_list)\n",
    "* Note the space after the comma within the quotation marks\n",
    "* Enter the following line 2 times, which will remove the item at that index as it gets updated\n",
    "* poem.pop(3)\n",
    "* Print the list to the screen with print()\n",
    "* Assign the 4th index (3) to jobs_str\n",
    "* poem[3] = jobs_str\n",
    "* Print the list to the screen\n",
    "* Use poem.clear()\n",
    "* Print poem to the screen"
   ]
  },
  {
   "cell_type": "markdown",
   "metadata": {},
   "source": [
    "## Dictionaries"
   ]
  },
  {
   "cell_type": "markdown",
   "metadata": {},
   "source": [
    "* Create a dictionary called 'business'. A business has attributes and properties. Create these key:value pairs in the dictionary\n",
    "* 'number_of_employees':33\n",
    "* 'ceo':'charlie wein'\n",
    "* 'monthly_expenses':252,000\n",
    "* 'type':'manufacturing'\n",
    "* 'address':'1234 W. Madethisup St'\n",
    "* Create a list called 'products' with the following elements\n",
    "* 'soda cans'\n",
    "* 'water bottles'\n",
    "* 'pie pans'\n",
    "* Create a new pair in the list by using assignment notation\n",
    "* business['product_list'] = products\n",
    "* Print the dictionary to screen\n",
    "* The business has obtained a new ceo. Use the assignment operator to change business's ceo to 'dj khaled'\n",
    "* business['ceo'] = 'dj khaled'\n",
    "* Business has fallen and so have expenses.\n",
    "* Create a new variable called expenses and set it to business['expenses']\n",
    "* Now set business['expenses'] = expenses * 0.5\n",
    "* This will halve the amount of business['expenses']\n",
    "* Under new leadership, the business is changing direction. Business is changing to 'financial consulting' and will no * longer have products\n",
    "* business['type'] = 'financial consulting'\n",
    "* business.pop('products')\n",
    "* Print business.keys() to screen\n",
    "* Print the dictionary to screen"
   ]
  },
  {
   "cell_type": "code",
   "execution_count": null,
   "metadata": {},
   "outputs": [],
   "source": []
  }
 ],
 "metadata": {
  "kernelspec": {
   "display_name": "Python 3",
   "language": "python",
   "name": "python3"
  },
  "language_info": {
   "codemirror_mode": {
    "name": "ipython",
    "version": 3
   },
   "file_extension": ".py",
   "mimetype": "text/x-python",
   "name": "python",
   "nbconvert_exporter": "python",
   "pygments_lexer": "ipython3",
   "version": "3.7.7"
  }
 },
 "nbformat": 4,
 "nbformat_minor": 4
}
