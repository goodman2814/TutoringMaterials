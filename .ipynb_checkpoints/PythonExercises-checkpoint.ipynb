{
 "cells": [
  {
   "cell_type": "markdown",
   "metadata": {},
   "source": [
    "# Exercises"
   ]
  },
  {
   "cell_type": "markdown",
   "metadata": {},
   "source": [
    "## Lists"
   ]
  },
  {
   "cell_type": "markdown",
   "metadata": {},
   "source": [
    "* This goes into a lot of the functionality of operating on a list. Some of the methods required here were not discussed in our lessons.\n",
    "\n",
    "* Construct an empty list called: poem\n",
    "    * poem = [ ]\n",
    "* Use .append() to add three strings to the list\n",
    "    * 'the butcher'\n",
    "    * 'the baker'\n",
    "    * 'and the candlestick-maker'\n",
    "* Print the list to the screen with print()\n",
    "* Use .insert()\n",
    "    * poem.insert(0, 'rub-a-dub-dub')\n",
    "    * poem.insert(1, 'three men in a tub')\n",
    "    * poem.insert(2, 'and who do you think they be?')\n",
    "* Print the list to the screen with print()\n",
    "* Use .append() to add: 'and all of them out to sea'\n",
    "* Create a variable called jobs_list by slicing the list\n",
    "    * jobs_list = poem[3:6]\n",
    "* Print jobs to output with print()\n",
    "* Create a variable called jobs_str by using .join()\n",
    "    * assign it to ', '.join(jobs_list)\n",
    "        * Note the space after the comma within the quotation marks\n",
    "* Enter the following line 2 times, which will remove the item at that index as it gets updated\n",
    "    * poem.pop(3)\n",
    "* Print the list to the screen with print()\n",
    "* Assign the 4th index (3) to jobs_str\n",
    "    * poem[3] = jobs_str\n",
    "* Print the list to the screen\n",
    "* Use empty the list using .clear()\n",
    "    * poem.clear()\n",
    "* Print poem to the screen"
   ]
  },
  {
   "cell_type": "markdown",
   "metadata": {},
   "source": [
    "## Dictionaries"
   ]
  },
  {
   "cell_type": "markdown",
   "metadata": {},
   "source": [
    "* Create a dictionary called 'business'. A business has attributes and properties. Create these key:value pairs in the dictionary\n",
    "    * 'number_of_employees':33\n",
    "    * 'ceo':'charlie wein'\n",
    "    * 'monthly_expenses':252000\n",
    "    * 'type':'manufacturing'\n",
    "    * 'address':'1234 W. Madethisup St'\n",
    "* Create a list called 'products' with the following elements\n",
    "    * 'soda cans'\n",
    "    * 'water bottles'\n",
    "    * 'pie pans'\n",
    "* Create a new pair in the dictionary by using assignment notation\n",
    "    * business['product_list'] = products\n",
    "* Print the dictionary to screen\n",
    "* The business has obtained a new ceo. Use the assignment operator to change business's ceo to 'dj khaled'\n",
    "    * business['ceo'] = 'dj khaled'\n",
    "* Business has fallen and so have expenses.\n",
    "    * Create a new variable called expenses and set it to business['monthly_expenses']\n",
    "        * expenses = business['monthly_expenses']\n",
    "    * Now set business['monthly_expenses'] = expenses * 0.5\n",
    "    * This will halve the amount of business['monthly_expenses']\n",
    "* Under new leadership, the business is changing direction. Business is changing to 'financial consulting' and will no longer have products, so product_list must be removed\n",
    "    * business['type'] = 'financial consulting'\n",
    "    * business.pop('products_list')\n",
    "* Print business.keys() to screen\n",
    "* Print the dictionary to screen"
   ]
  },
  {
   "cell_type": "markdown",
   "metadata": {},
   "source": [
    "# Variable scope\n",
    "* Create a global variable called global_var and set it to 10\n",
    "* Create a function called scope()\n",
    "    * This function takes no parameters\n",
    "    * Create a variable called local_var and set it to 1\n",
    "    * Attempt to modify the value of global_var within the function\n",
    "        * global_var = global_var + local_var\n",
    "* Call the function\n",
    "    * scope()\n",
    "* You will see that attempting to modify the value of the global variable inside of the function results in an error\n",
    "    * The function is looking for a variable called global_var within the local scope, but one has not been declared\n",
    "* Use the global keyword to show the function where to look for global_var\n",
    "    * add this line below the function declaration:\n",
    "        * global global_var\n",
    "    * This tells the function that it should reference a variable called 'global_var' at the global scope\n",
    "* Rerun the function\n",
    "* After the function call, attempt print(local_var)\n",
    "* This will result in an error because local_var only exists while scope() is executing\n",
    "    * It is deleted after the function completes\n"
   ]
  },
  {
   "cell_type": "code",
   "execution_count": 48,
   "metadata": {},
   "outputs": [],
   "source": [
    "global_var = 10\n",
    "\n",
    "def scope():\n",
    "    global global_var\n",
    "    local_var = 1\n",
    "    try:\n",
    "        print(global_var)\n",
    "        global_var = global_var + local_var\n",
    "        print(global_var)\n",
    "    except Exception as ex:\n",
    "        print(ex)"
   ]
  },
  {
   "cell_type": "code",
   "execution_count": 44,
   "metadata": {},
   "outputs": [
    {
     "name": "stdout",
     "output_type": "stream",
     "text": [
      "10\n",
      "11\n"
     ]
    }
   ],
   "source": [
    "scope()"
   ]
  },
  {
   "cell_type": "markdown",
   "metadata": {},
   "source": [
    "## Loops"
   ]
  },
  {
   "cell_type": "markdown",
   "metadata": {},
   "source": [
    "### While loop\n",
    "* Create a variable called user_age and set it to 1\n",
    "  * user_age = 1\n",
    "  * This must be created before the loop, so the loop knows which variable to evaluate\n",
    "* Create a loop where the break condition is when user_age is equal to 0\n",
    "  * while user_age > 0:\n",
    "    * This loop will continue until user_age is 0\n",
    "  * Within the loop:\n",
    "    * ask for the user's age and update user_age as an int\n",
    "      * user_age = int(input('What is your age?: '))\n",
    "        * Remember to cast the user input to an int in order to compare it to other numbers\n",
    "    * if the user's age is under 21\n",
    "      * print \"You can't even drink\" \n",
    "      * if the user's age is under 16\n",
    "        print \"But at least you can drive\"\n",
    "      * Else, if the user's age is over 16\n",
    "        * print \"And, you can't drive!?\"\n",
    "    * Else if the user's age is over 21\n",
    "      * If the user is over 40\n",
    "        * Print \"They call this 'over the hill'\"\n",
    "          * If the user is over 65\n",
    "            * print \"Are you retired? Because, you should really retire\"\n",
    "      * Else If the user's age is over 25\n",
    "        * print \"Hey, you can rent a car!\"\n",
    "      * Else\n",
    "        * print \"Nothing really happens to you for a while\""
   ]
  },
  {
   "cell_type": "markdown",
   "metadata": {},
   "source": [
    "### For loop\n",
    "* A common exercise to learn repeated operations, such as loops, is to calculate the Fibonacci sequence\n",
    "  * The Fibonacci sequence is a numerical series where the next number is the sum of the two previous numbers\n",
    "    * 1, 1, 2, 3, 5, 8, 13, 21, 34, 55, 89, 144...\n",
    "  * The first two numbers are 1 and 1\n",
    "* Initialize two integer variables\n",
    "  * num1 = 0\n",
    "  * num2 = 1\n",
    "* Save user input in a variable named 'sequence_length'\n",
    "  * sequence_length = int(input('How long should the sequence be?: '))\n",
    "    * Cast it to an int to do a little math\n",
    "* Initialize a list called 'fibonacci_sequence' and set it to an empty list\n",
    "  * fibonacci_sequence = []\n",
    "* Initialize a for loop with an iterator named 'iterator' and use sequence_length as the range for the for loop iterations\n",
    "  * for iterator in range(sequence_length):\n",
    "* This loop will calculate the Fibonacci sequence up to the number specified by the user\n",
    "* Within the for loop:\n",
    "  * Initialize a variable named sum_of_nums\n",
    "    * Set it to the sum of num1 and num2\n",
    "       * sum_of_nums = num1 + num2\n",
    "    * This variable will hold the value of the sum while the other two variables change their values\n",
    "  * Update the value of num1 to that of num2\n",
    "    * num1 = num2\n",
    "  * Update the value of num2 to that of sum_of_nums\n",
    "    * num2 = sum_of_nums\n",
    "  * Append num1 to fibonacci_sequence\n",
    "    * fibonacci_sequence.append(num1)\n",
    "* Outside of the loop, print fibonacci_sequence to the screen"
   ]
  },
  {
   "cell_type": "markdown",
   "metadata": {},
   "source": [
    "## Functions"
   ]
  },
  {
   "cell_type": "markdown",
   "metadata": {},
   "source": [
    "### Function 1\n",
    "* Create a function that takes 1 parameter\n",
    "    * The parameter will be a list of numbers\n",
    "    * The list will be of indeterminate length\n",
    "* Within the function\n",
    "    * Initialize a variable called max_num\n",
    "        * Set it to 0\n",
    "        * This variable will keep track of the largest number in the list \n",
    "    * Initialize a for loop to iterate over the input parameter\n",
    "    * Within the loop\n",
    "        * Compare max_num to each number in the list (one at a time)\n",
    "        * if max_num is larger than the number, print 'max_num maintains previous value'\n",
    "        * else if max_num is smaller than the number, print 'max_num obtains new value' and set max_num to the value of the other number\n",
    "        * at the end of the loop max_num should have the value of the largest number in the list\n",
    "    * Use the return keyword to output max_num\n",
    "* Call the function"
   ]
  },
  {
   "cell_type": "code",
   "execution_count": null,
   "metadata": {},
   "outputs": [],
   "source": []
  },
  {
   "cell_type": "markdown",
   "metadata": {},
   "source": [
    "### Function 2\n",
    "* Create a function that takes 1 parameter\n",
    "    * The parameter will be a list of numbers\n",
    "    * The list will be of indeterminate length\n",
    "* Within the function\n",
    "    * Initialize a variable called max_num\n",
    "        * Set it to 0\n",
    "        * This variable will keep track of the largest number in the list \n",
    "    * Initialize a for loop to iterate over the input parameter\n",
    "    * Within the loop\n",
    "        * Compare max_num to each number in the list (one at a time)\n",
    "        * if max_num is larger than the number, print 'max_num maintains previous value'\n",
    "        * else if max_num is smaller than the number, print 'max_num obtains new value' and set max_num to the value of the other number\n",
    "        * at the end of the loop max_num should have the value of the largest number in the list\n",
    "    * Use the return keyword to output max_num\n",
    "* Call the function"
   ]
  },
  {
   "cell_type": "markdown",
   "metadata": {},
   "source": [
    "### Function 3\n",
    "* Create a function that checks the strength of a password\n",
    "    * Use a loop to continually ask for a new password to check\n",
    "        * If a user enters 'stop', break the loop and end the function\n",
    "    * Initialize (create) a variable that will be used to track the 'strength' of the password\n",
    "        * strength = 0\n",
    "        * Max value should be 4\n",
    "    * Check the contents of the string for specific conditions\n",
    "        * For every check that passes, add 1 to the 'strength' variable\n",
    "        * Check for:\n",
    "            * Letters\n",
    "            * Numbers\n",
    "            * Special characters (!@#$%^&*()?[]{})\n",
    "            * Make sure that the string is at least 8 characters\n",
    "                * All sequence objects have a len() function that returns the length of the object\n",
    "    * Based on the value of 'strength' return a string\n",
    "        * 'very weak'\n",
    "        * 'weak'\n",
    "        * 'acceptable'\n",
    "        * 'strong'\n",
    "* Call the function\n",
    "        "
   ]
  },
  {
   "cell_type": "code",
   "execution_count": null,
   "metadata": {},
   "outputs": [],
   "source": []
  }
 ],
 "metadata": {
  "kernelspec": {
   "display_name": "Python 3",
   "language": "python",
   "name": "python3"
  },
  "language_info": {
   "codemirror_mode": {
    "name": "ipython",
    "version": 3
   },
   "file_extension": ".py",
   "mimetype": "text/x-python",
   "name": "python",
   "nbconvert_exporter": "python",
   "pygments_lexer": "ipython3",
   "version": "3.7.7"
  }
 },
 "nbformat": 4,
 "nbformat_minor": 4
}
