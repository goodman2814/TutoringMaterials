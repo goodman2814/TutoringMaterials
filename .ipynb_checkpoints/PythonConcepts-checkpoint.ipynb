{
 "cells": [
  {
   "cell_type": "markdown",
   "metadata": {},
   "source": [
    "\n",
    "# Before diving in:\n",
    "* All of this information is fairly unique to Python\n",
    "* Python is different from many other programming languages, but its differences make it great to learn for new programmers\n",
    "* These concepts can still be built upon for advanced techniques, and once understood can make it easier to understand other languages\n"
   ]
  },
  {
   "cell_type": "markdown",
   "metadata": {},
   "source": [
    "# Numerical data types in python"
   ]
  },
  {
   "cell_type": "markdown",
   "metadata": {},
   "source": [
    "### Boolean\n",
    "* True or False\n",
    "* Also an English representation of 1 or 0 respectively\n",
    "* Typically used as the result of a comparison or equivalency"
   ]
  },
  {
   "cell_type": "code",
   "execution_count": null,
   "metadata": {},
   "outputs": [],
   "source": [
    "# Examples\n",
    "True\n",
    "False"
   ]
  },
  {
   "cell_type": "markdown",
   "metadata": {},
   "source": [
    "### Integer (int)\n",
    "* Most common numeric type used by python\n",
    "* In python, there is no maximum integer value, but in most other programming lanauages there is."
   ]
  },
  {
   "cell_type": "code",
   "execution_count": null,
   "metadata": {},
   "outputs": [],
   "source": [
    "1234\n",
    "987654321\n",
    "1"
   ]
  },
  {
   "cell_type": "markdown",
   "metadata": {},
   "source": [
    "### Floating point (float)\n",
    "* Numbers that are not whole and include a decimal point\n",
    "* A little difficult to use because of the nature of binary numbers"
   ]
  },
  {
   "cell_type": "code",
   "execution_count": null,
   "metadata": {},
   "outputs": [],
   "source": [
    "1.1\n",
    "0.333333333"
   ]
  },
  {
   "cell_type": "markdown",
   "metadata": {},
   "source": [
    "### Numeric operators"
   ]
  },
  {
   "cell_type": "code",
   "execution_count": 38,
   "metadata": {},
   "outputs": [
    {
     "data": {
      "text/plain": [
       "52"
      ]
     },
     "execution_count": 38,
     "metadata": {},
     "output_type": "execute_result"
    }
   ],
   "source": [
    "# Multiplication\n",
    "13*4"
   ]
  },
  {
   "cell_type": "code",
   "execution_count": 39,
   "metadata": {},
   "outputs": [
    {
     "data": {
      "text/plain": [
       "28561"
      ]
     },
     "execution_count": 39,
     "metadata": {},
     "output_type": "execute_result"
    }
   ],
   "source": [
    "# Exponentiation\n",
    "# Applies the second number to the first as an exponent\n",
    "13**4"
   ]
  },
  {
   "cell_type": "code",
   "execution_count": 37,
   "metadata": {},
   "outputs": [
    {
     "data": {
      "text/plain": [
       "4.333333333333333"
      ]
     },
     "execution_count": 37,
     "metadata": {},
     "output_type": "execute_result"
    }
   ],
   "source": [
    "# Floating point division\n",
    "13/3"
   ]
  },
  {
   "cell_type": "code",
   "execution_count": 36,
   "metadata": {},
   "outputs": [
    {
     "data": {
      "text/plain": [
       "4"
      ]
     },
     "execution_count": 36,
     "metadata": {},
     "output_type": "execute_result"
    }
   ],
   "source": [
    "# Integer division\n",
    "# Floors the result, meaning it forgets about any remainder or floating point and returns whole numbers\n",
    "13//3"
   ]
  },
  {
   "cell_type": "code",
   "execution_count": 40,
   "metadata": {},
   "outputs": [
    {
     "data": {
      "text/plain": [
       "1"
      ]
     },
     "execution_count": 40,
     "metadata": {},
     "output_type": "execute_result"
    }
   ],
   "source": [
    "# Modulus\n",
    "# Returns the remainder of division\n",
    "# If the first number is smaller than the second, then the first number is returned\n",
    "13%4"
   ]
  },
  {
   "cell_type": "markdown",
   "metadata": {},
   "source": [
    "### Complex data types\n",
    "* Complex data types are collections of elements whose value is one of the fundamental types or another complex data type"
   ]
  },
  {
   "cell_type": "markdown",
   "metadata": {},
   "source": [
    "### List\n",
    "* An ordered sequence of objects (think 'variables')\n",
    "* A list is an iterable, which means that you can conduct operations on each one of its individual elements\n",
    "    * ^Will reference this more in LOOPS^\n",
    "* Indicated by square brackets [ ]\n",
    "* Sequence data types always start with index=0 <<< VERY IMPORTANT\n",
    "    * This means that in order to reference the first item in the list, you must specify index 0 -> list[0]\n",
    "* In python, other complex data types are built on the list, including strings\n",
    "* Have many built-in functions that you can reference including:\n",
    "    * sort()\n",
    "    * reverse()\n",
    "    * pop()\n",
    "    * append()"
   ]
  },
  {
   "cell_type": "code",
   "execution_count": null,
   "metadata": {},
   "outputs": [],
   "source": [
    "# Examples\n",
    "['index0', 'index1', 'index2', 'index3']\n",
    "[1, 2, 4, 5, 6, 8, 9, 4, 6, 78]\n",
    "[100, True, 'lists','can', 'contain', 'different', 'datatypes']"
   ]
  },
  {
   "cell_type": "code",
   "execution_count": 50,
   "metadata": {},
   "outputs": [
    {
     "name": "stdout",
     "output_type": "stream",
     "text": [
      "['alphabet', 'dog', 'queen', 'zebra']\n"
     ]
    }
   ],
   "source": [
    "# Sort a list\n",
    "list1 = ['egg', 'zebra', 'alphabet', 'queen']\n",
    "list1.sort()\n",
    "print(list1)"
   ]
  },
  {
   "cell_type": "code",
   "execution_count": 53,
   "metadata": {},
   "outputs": [
    {
     "name": "stdout",
     "output_type": "stream",
     "text": [
      "[1, 2, 3, 4, 5, 6, 7, 8, 9, 10]\n"
     ]
    }
   ],
   "source": [
    "# Reverse a list\n",
    "list1 = [10, 9, 8, 7, 6, 5, 4, 3, 2, 1]\n",
    "list1.reverse()\n",
    "print(list1)"
   ]
  },
  {
   "cell_type": "code",
   "execution_count": 58,
   "metadata": {},
   "outputs": [
    {
     "name": "stdout",
     "output_type": "stream",
     "text": [
      "['alphabet', 'dog', 'queen']\n",
      "['alphabet', 'queen']\n"
     ]
    }
   ],
   "source": [
    "# Pop removes an element in the list at the given index\n",
    "# If no index is given, it removes the last item\n",
    "list1 = ['alphabet', 'dog', 'queen', 'zebra']\n",
    "list1.pop()\n",
    "print(list1)\n",
    "list1.pop(1)\n",
    "print(list1)"
   ]
  },
  {
   "cell_type": "code",
   "execution_count": 59,
   "metadata": {},
   "outputs": [
    {
     "name": "stdout",
     "output_type": "stream",
     "text": [
      "queen\n",
      "['alphabet']\n"
     ]
    }
   ],
   "source": [
    "# Pop also returns the item that it removes\n",
    "# You can save this item in a variable\n",
    "removed_item = list1.pop(1)\n",
    "print(removed_item)\n",
    "print(list1)"
   ]
  },
  {
   "cell_type": "code",
   "execution_count": 61,
   "metadata": {},
   "outputs": [
    {
     "name": "stdout",
     "output_type": "stream",
     "text": [
      "['alphabet', 'dog', 'queen', 'zebra', 'word']\n"
     ]
    }
   ],
   "source": [
    "# Append\n",
    "# Operation to add an item to the end of a list\n",
    "list1 = ['alphabet', 'dog', 'queen', 'zebra']\n",
    "list1.append('word')\n",
    "print(list1)"
   ]
  },
  {
   "cell_type": "code",
   "execution_count": 62,
   "metadata": {},
   "outputs": [
    {
     "data": {
      "text/plain": [
       "['alphabet', 'dog', 'queen', 'zebra', 'this', 'is', 'a', 'different', 'list']"
      ]
     },
     "execution_count": 62,
     "metadata": {},
     "output_type": "execute_result"
    }
   ],
   "source": [
    "# Concatenation\n",
    "# Multiple lists can be combined by using the concatenation operator '+'\n",
    "['alphabet', 'dog', 'queen', 'zebra'] + ['this', 'is', 'a', 'different', 'list']"
   ]
  },
  {
   "cell_type": "code",
   "execution_count": 67,
   "metadata": {},
   "outputs": [
    {
     "data": {
      "text/plain": [
       "[[1, 2, 3], [4, 5, 6], [7, 8, 9]]"
      ]
     },
     "execution_count": 67,
     "metadata": {},
     "output_type": "execute_result"
    }
   ],
   "source": [
    "# Lists can even contain other lists\n",
    "# This is known as a 2D list\n",
    "[[1, 2, 3],[4, 5, 6], [7, 8, 9]]"
   ]
  },
  {
   "cell_type": "markdown",
   "metadata": {},
   "source": [
    "### String\n",
    "* A sequence of characters including alphanumeric and punctuation\n",
    "* A string is indicated by either single ('') or double (\"\") quotes in python\n",
    "* A string also has many built-in operations. Several of which are:\n",
    "    * splitting\n",
    "    * concatenating\n",
    "    * indexing"
   ]
  },
  {
   "cell_type": "code",
   "execution_count": null,
   "metadata": {},
   "outputs": [],
   "source": [
    "# Examples\n",
    "\"This is a string.\"\n",
    "'This is also a string.'\n",
    "\"1234\""
   ]
  },
  {
   "cell_type": "code",
   "execution_count": 1,
   "metadata": {},
   "outputs": [
    {
     "data": {
      "text/plain": [
       "['this', 'is', 'a', 'string']"
      ]
     },
     "execution_count": 1,
     "metadata": {},
     "output_type": "execute_result"
    }
   ],
   "source": [
    "# Splitting\n",
    "# split() divides the function based on a given character\n",
    "# If no character is given as an argument, space (' ') is used as a delimiter\n",
    "\"this is a string\".split()"
   ]
  },
  {
   "cell_type": "code",
   "execution_count": 4,
   "metadata": {},
   "outputs": [
    {
     "data": {
      "text/plain": [
       "'this is a string'"
      ]
     },
     "execution_count": 4,
     "metadata": {},
     "output_type": "execute_result"
    }
   ],
   "source": [
    "# Concatenating\n",
    "# Accomplished by applying the '+' operator to two or more strings\n",
    "\"this is\" + \" a string\""
   ]
  },
  {
   "cell_type": "code",
   "execution_count": 3,
   "metadata": {},
   "outputs": [
    {
     "data": {
      "text/plain": [
       "'s'"
      ]
     },
     "execution_count": 3,
     "metadata": {},
     "output_type": "execute_result"
    }
   ],
   "source": [
    "# Indexing\n",
    "# Index 3 in this string is an 's'\n",
    "# Access an index in a string by using square brackets at the end of the string and specifying an index\n",
    "#0123456789\n",
    "\"this is a string\"[3]"
   ]
  },
  {
   "cell_type": "code",
   "execution_count": 8,
   "metadata": {},
   "outputs": [
    {
     "name": "stdout",
     "output_type": "stream",
     "text": [
      "The type of \"s\" is: <class 'str'>\n"
     ]
    }
   ],
   "source": [
    "# Even a single character is a string, so a string can be thought of as a collection of strings\n",
    "print(f'The data type of \"s\" is: {type(\"s\")}')"
   ]
  },
  {
   "cell_type": "markdown",
   "metadata": {},
   "source": [
    "### Set\n",
    "* An unordered collection of elements.\n",
    "* Each element in a set must be unique, so there can be no duplicates.\n",
    "* Indicated by curly braces { }"
   ]
  },
  {
   "cell_type": "code",
   "execution_count": 3,
   "metadata": {},
   "outputs": [
    {
     "data": {
      "text/plain": [
       "{'be', 'each', 'element', 'must', 'unique'}"
      ]
     },
     "execution_count": 3,
     "metadata": {},
     "output_type": "execute_result"
    }
   ],
   "source": [
    "{'each', 'element', 'must', 'be', 'unique', 'unique'}"
   ]
  },
  {
   "cell_type": "markdown",
   "metadata": {},
   "source": [
    "### Dictionary (dict)\n",
    "* Also called an associative array\n",
    "* Non-ordered sequence of key:value pairs\n",
    "* Indicated by curly braces { }\n",
    "* The keys of the pairs are typically strings, but can be any datatype including complex datatypes\n",
    "* Can use the keys as references the same way that indexes are used for lists\n",
    "    * square brackets around a key name [key_name]"
   ]
  },
  {
   "cell_type": "code",
   "execution_count": 15,
   "metadata": {},
   "outputs": [
    {
     "data": {
      "text/plain": [
       "'value1'"
      ]
     },
     "execution_count": 15,
     "metadata": {},
     "output_type": "execute_result"
    }
   ],
   "source": [
    "# Example\n",
    "{'key1':'value1', 'key2':1234}['key1']\n",
    "# ^dictionary                  ^accessing the value of 'key1'"
   ]
  },
  {
   "cell_type": "code",
   "execution_count": 16,
   "metadata": {},
   "outputs": [
    {
     "data": {
      "text/plain": [
       "dict_keys(['key1', 'key2'])"
      ]
     },
     "execution_count": 16,
     "metadata": {},
     "output_type": "execute_result"
    }
   ],
   "source": [
    "# All of the keys of a dictionary can be collected by calling the dictionary's keys() function, which returns a list\n",
    "{'key1':'value1', 'key2':1234}.keys()"
   ]
  },
  {
   "cell_type": "markdown",
   "metadata": {},
   "source": [
    "### Casting\n",
    "* Data types can be cast to another type provided that they are built on the same sub-class\n",
    "    * Numerical\n",
    "    * Collection"
   ]
  },
  {
   "cell_type": "code",
   "execution_count": 6,
   "metadata": {},
   "outputs": [
    {
     "data": {
      "text/plain": [
       "24.0"
      ]
     },
     "execution_count": 6,
     "metadata": {},
     "output_type": "execute_result"
    }
   ],
   "source": [
    "# Using float() adds a decimal point and a trailing 0\n",
    "float(24)"
   ]
  },
  {
   "cell_type": "code",
   "execution_count": 7,
   "metadata": {},
   "outputs": [
    {
     "data": {
      "text/plain": [
       "24"
      ]
     },
     "execution_count": 7,
     "metadata": {},
     "output_type": "execute_result"
    }
   ],
   "source": [
    "# Using int() floors the number\n",
    "int(24.42)"
   ]
  },
  {
   "cell_type": "code",
   "execution_count": 10,
   "metadata": {},
   "outputs": [
    {
     "name": "stdout",
     "output_type": "stream",
     "text": [
      "43456\n",
      "<class 'int'>\n",
      "345.467\n",
      "<class 'float'>\n"
     ]
    }
   ],
   "source": [
    "# If a string is only made of numerical characters, it can be cast to a number\n",
    "print(int('43456'))\n",
    "print(type(int('43456')))\n",
    "print(float('345.467'))\n",
    "print(type(float('345.467')))"
   ]
  },
  {
   "cell_type": "code",
   "execution_count": 18,
   "metadata": {},
   "outputs": [
    {
     "name": "stdout",
     "output_type": "stream",
     "text": [
      "45673\n",
      "<class 'str'>\n",
      "['this', 'is', 'a', 'list']\n",
      "<class 'str'>\n"
     ]
    }
   ],
   "source": [
    "# Most other data types can be cast to a string\n",
    "print(str(45673))\n",
    "print(type(str(45673)))\n",
    "print(str(['this', 'is', 'a', 'list']))\n",
    "print(type(str(['this', 'is', 'a', 'list'])))"
   ]
  },
  {
   "cell_type": "code",
   "execution_count": 66,
   "metadata": {},
   "outputs": [
    {
     "name": "stdout",
     "output_type": "stream",
     "text": [
      "<class 'set'>\n",
      "<class 'list'>\n"
     ]
    }
   ],
   "source": [
    "# Because they implement much of the same functionality, lists can be converted to sets and sets can be converted to lists\n",
    "list1 = ['alphabet', 'dog', 'queen', 'zebra']\n",
    "set1 = set(list1)\n",
    "print(type(set1))\n",
    "list2 = list(set1)\n",
    "print(type(list2))"
   ]
  },
  {
   "cell_type": "markdown",
   "metadata": {},
   "source": [
    "# Code Structures"
   ]
  },
  {
   "cell_type": "markdown",
   "metadata": {},
   "source": [
    "### Variables\n",
    "* Objects in a program that are used to reference a value\n",
    "* Created by specifying a name and using a single equal sign '='\n",
    "* Objects always have their own functions that can be used with dot notation '.'\n",
    "    * hero.say()"
   ]
  },
  {
   "cell_type": "code",
   "execution_count": 10,
   "metadata": {},
   "outputs": [],
   "source": [
    "var1 = 1234\n",
    "var2 = 'string'\n",
    "var3 = ['this', 'is', 'a', 'list']\n",
    "var4 = False\n",
    "var5 = True"
   ]
  },
  {
   "cell_type": "markdown",
   "metadata": {},
   "source": [
    "### If/Else statements\n",
    "* Used to compare variables or to check if something exists\n",
    "    * Always returns a True or False value\n",
    "* Once the comparison is evaluated, a condition can be executed based on the\n",
    "    * If True is returned, then the code beneath the if statement is executed\n",
    "    * If False is returned, the code underneath is passed over, and the program looks for the next executable statement\n",
    "* Can be nested\n",
    "    * If nested, the statements are evaluated in sequence\n",
    "* If mulitple conditions need to be evaluated in sequence, an 'elif' can be included before an 'else' statement is used\n",
    "* There isn't a limit to how many elif statements can be included before 'else'"
   ]
  },
  {
   "cell_type": "code",
   "execution_count": 12,
   "metadata": {},
   "outputs": [
    {
     "name": "stdout",
     "output_type": "stream",
     "text": [
      "var4 does not exist, but var5 does\n"
     ]
    }
   ],
   "source": [
    "if var4:\n",
    "    print('var4 exists')\n",
    "elif var5:\n",
    "    print('var4 does not exist, but var5 does')\n",
    "else:\n",
    "    print('Neither var4 nor var5 exist')"
   ]
  },
  {
   "cell_type": "markdown",
   "metadata": {},
   "source": [
    "* A single '=' represents assignment and a double equal sign '==' represents a comparison\n",
    "    * You will forget this, and it will cause much suffering\n",
    "        * It happens to everyone\n",
    "        * It's not always shown in error statements"
   ]
  },
  {
   "cell_type": "code",
   "execution_count": 17,
   "metadata": {},
   "outputs": [
    {
     "ename": "SyntaxError",
     "evalue": "invalid syntax (<ipython-input-17-dd59731d6019>, line 5)",
     "output_type": "error",
     "traceback": [
      "\u001b[1;36m  File \u001b[1;32m\"<ipython-input-17-dd59731d6019>\"\u001b[1;36m, line \u001b[1;32m5\u001b[0m\n\u001b[1;33m    if sample2 = 200:\u001b[0m\n\u001b[1;37m               ^\u001b[0m\n\u001b[1;31mSyntaxError\u001b[0m\u001b[1;31m:\u001b[0m invalid syntax\n"
     ]
    }
   ],
   "source": [
    "sample1 = 42\n",
    "sample2 = 100\n",
    "if sample1 == sample2:\n",
    "    print('The evaluation succeeded')\n",
    "if sample2 = 200:\n",
    "    print('The evaluation succeeded????')"
   ]
  },
  {
   "cell_type": "code",
   "execution_count": 63,
   "metadata": {},
   "outputs": [
    {
     "name": "stdout",
     "output_type": "stream",
     "text": [
      "It's greater than 10\n",
      "But, it's less than 20\n"
     ]
    }
   ],
   "source": [
    "# If statements can be nested\n",
    "var1 = 13\n",
    "if var1 > 10:\n",
    "    print(\"It's greater than 10\")\n",
    "    if var1 < 20:\n",
    "        # Should the first 'if' evaluate to False, then the nested if is skipped over\n",
    "        print(\"But, it's less than 20\")"
   ]
  },
  {
   "cell_type": "code",
   "execution_count": 64,
   "metadata": {},
   "outputs": [
    {
     "name": "stdout",
     "output_type": "stream",
     "text": [
      "There's a zebra in list1\n",
      "There's no crocodile in list1\n"
     ]
    }
   ],
   "source": [
    "# 'if' can even be used to check the contents of a sequence\n",
    "list1 = ['alphabet', 'dog', 'queen', 'zebra']\n",
    "if 'zebra' in list1:\n",
    "    print(\"There's a zebra in list1\")\n",
    "if 'crocodile' not in list1:\n",
    "    print(\"There's no crocodile in list1\")"
   ]
  },
  {
   "cell_type": "markdown",
   "metadata": {},
   "source": [
    "### Loops\n",
    "* Loops are used to perform a task on something until a certain condition is met\n",
    "* 'for loops' are given a limited sequence or a specified number of iterations for execution\n",
    "    * A typical 'for loop' is given a number of iteration\n",
    "        * It counts the number of operations, starting at 0, repeating its operations until it has met the specified number of operations\n",
    "    * A 'foreach loop' is a special type of for loop \n",
    "        * You give a 'for each loop' a sequence, such as a list to iterate over, and it performs an operation 'for each' *wink* element in the sequence\n",
    "* 'while loops' are told to perform a task until a condition is met\n",
    "    * Can be used in place of a for loop if you're feeling fancy \n",
    "        * You must specify a variable to keep count of the iterations"
   ]
  },
  {
   "cell_type": "code",
   "execution_count": 19,
   "metadata": {},
   "outputs": [
    {
     "name": "stdout",
     "output_type": "stream",
     "text": [
      "0\n",
      "1\n",
      "2\n",
      "3\n",
      "4\n",
      "5\n"
     ]
    }
   ],
   "source": [
    "# Typical 'for loop' counts the number of operations given in range()\n",
    "for number in range(0, 6):\n",
    "    print(number)"
   ]
  },
  {
   "cell_type": "code",
   "execution_count": 20,
   "metadata": {},
   "outputs": [
    {
     "name": "stdout",
     "output_type": "stream",
     "text": [
      "parrot\n",
      "dog\n",
      "cat\n",
      "fish\n",
      "mosquito\n"
     ]
    }
   ],
   "source": [
    "# A 'foreach loop' iterates over the list 'animals' and prints each animal\n",
    "animals = ['parrot', 'dog', 'cat', 'fish', 'mosquito']\n",
    "for animal in animals:\n",
    "    print(animal)"
   ]
  },
  {
   "cell_type": "code",
   "execution_count": 23,
   "metadata": {},
   "outputs": [
    {
     "name": "stdout",
     "output_type": "stream",
     "text": [
      "1\n",
      "2\n",
      "3\n",
      "4\n",
      "5\n",
      "6\n"
     ]
    }
   ],
   "source": [
    "condition_holder = True\n",
    "counter = 0\n",
    "while condition_holder == True:\n",
    "    # counter holds the number of iterations in the loop, similar to how a 'for loop' counts\n",
    "    counter = counter + 1\n",
    "    if counter > 5:\n",
    "        # When counter becomes greater than 5, condition_holder will become False, and the while loop will break\n",
    "        condition_holder = False\n",
    "    print(counter)"
   ]
  },
  {
   "cell_type": "code",
   "execution_count": 50,
   "metadata": {},
   "outputs": [
    {
     "name": "stdin",
     "output_type": "stream",
     "text": [
      "Should the loop stop?:  no\n",
      "Should the loop stop?:  no\n",
      "Should the loop stop?:  NO\n",
      "Should the loop stop?:  YES\n",
      "Should the loop stop?:  Si\n",
      "Should the loop stop?:  yes\n"
     ]
    },
    {
     "name": "stdout",
     "output_type": "stream",
     "text": [
      "The loop has stopped.\n"
     ]
    }
   ],
   "source": [
    "user_input = '' # creating an empty string for the loop\n",
    "while user_input != 'yes':\n",
    "    # Will continue to ask for user input until the user types 'yes'\n",
    "    user_input = input('Should the loop stop?: ')\n",
    "print('The loop has stopped.')"
   ]
  },
  {
   "cell_type": "markdown",
   "metadata": {},
   "source": [
    "### Functions\n",
    "* Also called 'methods'\n",
    "* Packaged, defined operations that can be reused throughout a program\n",
    "* Very easy to define in python\n",
    "* Indicated with a single line containing 'def', a function name, and parentheses ( ) followed by a :\n",
    "    * This is called a 'declaration' or 'definition'"
   ]
  },
  {
   "cell_type": "code",
   "execution_count": 12,
   "metadata": {},
   "outputs": [],
   "source": [
    "def a_function():# <<< function declaration\n",
    "    # The process of the function goes under the function declaration with one tab over, similar to an 'if' statement\n",
    "    print('Hello, World!')"
   ]
  },
  {
   "cell_type": "markdown",
   "metadata": {},
   "source": [
    "* Arguments can also be specified within the declaration of a function by placing variable names inside the parentheses\n",
    "* In python, you don't need to specify the argument type, but you do in other programming languages"
   ]
  },
  {
   "cell_type": "code",
   "execution_count": 13,
   "metadata": {},
   "outputs": [],
   "source": [
    "def also_a_function(argument1, argument2): \n",
    "    if argument1 == argument2:\n",
    "        print('They are equivalent')\n",
    "    else:\n",
    "        print('They are not equivalent')"
   ]
  },
  {
   "cell_type": "markdown",
   "metadata": {},
   "source": [
    "* A function is used by 'calling' it\n",
    "* Type the name of a function followed by parentheses and include any arguments that it requires"
   ]
  },
  {
   "cell_type": "code",
   "execution_count": 15,
   "metadata": {},
   "outputs": [
    {
     "name": "stdout",
     "output_type": "stream",
     "text": [
      "Hello, World!\n"
     ]
    }
   ],
   "source": [
    "# a_function requires no arguments so we use it like this:\n",
    "a_function()"
   ]
  },
  {
   "cell_type": "code",
   "execution_count": 16,
   "metadata": {},
   "outputs": [
    {
     "name": "stdout",
     "output_type": "stream",
     "text": [
      "They are equivalent\n",
      "They are equivalent\n",
      "They are not equivalent\n"
     ]
    }
   ],
   "source": [
    "# also_a_function needs arguments to execute, so we feed it values\n",
    "also_a_function(2, 2)\n",
    "also_a_function('Charlie', 'Charlie')\n",
    "also_a_function('Charlie', 2)"
   ]
  },
  {
   "cell_type": "markdown",
   "metadata": {},
   "source": [
    "* A function can operate on a variable and produce a value unique to that function call\n",
    "* That value can be captured and saved by using the 'return' keyword\n",
    "* This is done by naming a variable and assigning to a function call"
   ]
  },
  {
   "cell_type": "code",
   "execution_count": 48,
   "metadata": {},
   "outputs": [
    {
     "name": "stdin",
     "output_type": "stream",
     "text": [
      "Say something->  this is a sentence that can be reversed\n"
     ]
    },
    {
     "name": "stdout",
     "output_type": "stream",
     "text": [
      "Reversed something->  desrever eb nac taht ecnetnes a si siht\n"
     ]
    }
   ],
   "source": [
    "def return_something():\n",
    "    user_input = input('Say something-> ')\n",
    "    something=user_input[len(user_input)::-1]\n",
    "    return something\n",
    "\n",
    "returned_value = return_something()\n",
    "\n",
    "print('Reversed something-> ', returned_value)"
   ]
  },
  {
   "cell_type": "markdown",
   "metadata": {},
   "source": [
    "* When defining a function, default values can be specified by using the assignment operator '=' when naming an argument\n",
    "* If an argument isn't specified by the caller, then the default value is used\n",
    "* This can make calling the function easier, or avoid NULL inputs"
   ]
  },
  {
   "cell_type": "code",
   "execution_count": 17,
   "metadata": {},
   "outputs": [],
   "source": [
    "def add_numbers(num1=1, num2=2):\n",
    "    return num1 + num2"
   ]
  },
  {
   "cell_type": "code",
   "execution_count": 18,
   "metadata": {},
   "outputs": [
    {
     "data": {
      "text/plain": [
       "3"
      ]
     },
     "execution_count": 18,
     "metadata": {},
     "output_type": "execute_result"
    }
   ],
   "source": [
    "# Calling the function without specifying arguments\n",
    "add_numbers()"
   ]
  },
  {
   "cell_type": "code",
   "execution_count": 19,
   "metadata": {},
   "outputs": [
    {
     "data": {
      "text/plain": [
       "167"
      ]
     },
     "execution_count": 19,
     "metadata": {},
     "output_type": "execute_result"
    }
   ],
   "source": [
    "# Calling the function with arguments\n",
    "add_numbers(45, 122)"
   ]
  },
  {
   "cell_type": "code",
   "execution_count": 20,
   "metadata": {},
   "outputs": [
    {
     "data": {
      "text/plain": [
       "24"
      ]
     },
     "execution_count": 20,
     "metadata": {},
     "output_type": "execute_result"
    }
   ],
   "source": [
    "# Calling the function with 1 argument\n",
    "# One argument is specified, but two are expected, so the function takes the given value as num1\n",
    "add_numbers(22) # 22+2=24"
   ]
  },
  {
   "cell_type": "code",
   "execution_count": 21,
   "metadata": {},
   "outputs": [
    {
     "data": {
      "text/plain": [
       "23"
      ]
     },
     "execution_count": 21,
     "metadata": {},
     "output_type": "execute_result"
    }
   ],
   "source": [
    "# Can even specify which argument you are providing a value for by using the assignment operator '=' in the call\n",
    "add_numbers(num2=22) # 22+1=23"
   ]
  },
  {
   "cell_type": "markdown",
   "metadata": {},
   "source": [
    "### Exceptions\n",
    "* Special cases for output that can explain what happened if something goes wrong\n",
    "* Occur when the computer receives input or instructions that it doesn't understand or can't process"
   ]
  },
  {
   "cell_type": "code",
   "execution_count": 27,
   "metadata": {},
   "outputs": [
    {
     "ename": "ZeroDivisionError",
     "evalue": "division by zero",
     "output_type": "error",
     "traceback": [
      "\u001b[1;31m---------------------------------------------------------------------------\u001b[0m",
      "\u001b[1;31mZeroDivisionError\u001b[0m                         Traceback (most recent call last)",
      "\u001b[1;32m<ipython-input-27-88d66f36ca11>\u001b[0m in \u001b[0;36m<module>\u001b[1;34m\u001b[0m\n\u001b[1;32m----> 1\u001b[1;33m \u001b[0mvar1\u001b[0m \u001b[1;33m=\u001b[0m \u001b[1;36m10\u001b[0m\u001b[1;33m/\u001b[0m\u001b[1;36m0\u001b[0m\u001b[1;33m\u001b[0m\u001b[1;33m\u001b[0m\u001b[0m\n\u001b[0m",
      "\u001b[1;31mZeroDivisionError\u001b[0m: division by zero"
     ]
    }
   ],
   "source": [
    "# Division by zero is a common error in mathematical processes\n",
    "var1 = 10/0\n",
    "# Output is an example of an exception"
   ]
  },
  {
   "cell_type": "markdown",
   "metadata": {},
   "source": [
    "### Try/Except clauses\n",
    "* These are containers for code blocks that prevent a program from crashing if something goes wrong\n",
    "* The 'try' statement opens a code block for execution and notifies the program that if something does go wrong, the 'except' statement should execute\n",
    "* This can make debugging easier\n",
    "* Allows for easy handling of Exceptions\n",
    "* Can also allow for edge cases in inputs to be ignored"
   ]
  },
  {
   "cell_type": "code",
   "execution_count": 36,
   "metadata": {},
   "outputs": [
    {
     "name": "stdout",
     "output_type": "stream",
     "text": [
      "Something wrong happened, but it was handled so that the program didn't crash.\n"
     ]
    }
   ],
   "source": [
    "try:\n",
    "    # If something happens in this code block, then the code within the 'except' statement is triggered\n",
    "    value = 10/0\n",
    "    print(value)\n",
    "except Exception as ex:\n",
    "    print('Something wrong happened, but it was handled so that the program didn\\'t crash.')"
   ]
  },
  {
   "cell_type": "markdown",
   "metadata": {},
   "source": [
    "* The 'finally' clause allows code to be executed regardless of the result of the try/catch block"
   ]
  },
  {
   "cell_type": "code",
   "execution_count": 37,
   "metadata": {},
   "outputs": [
    {
     "name": "stdout",
     "output_type": "stream",
     "text": [
      "Something went wrong\n",
      "The code block is done\n"
     ]
    }
   ],
   "source": [
    "try:\n",
    "    value = 10/0\n",
    "    print(value)\n",
    "except Exception:\n",
    "    print('Something went wrong')\n",
    "finally:\n",
    "    print('The code block is done')"
   ]
  },
  {
   "cell_type": "code",
   "execution_count": 38,
   "metadata": {},
   "outputs": [
    {
     "name": "stdout",
     "output_type": "stream",
     "text": [
      "10\n",
      "The code block is done\n"
     ]
    }
   ],
   "source": [
    "try:\n",
    "    value = 10\n",
    "    print(value)\n",
    "except Exception:\n",
    "    print('Something went wrong')\n",
    "finally:\n",
    "    print('The code block is done')"
   ]
  },
  {
   "cell_type": "markdown",
   "metadata": {},
   "source": [
    "# Exercise 1\n",
    "* Create a function calculates the Fibonacci sequence\n",
    "    * def fibonacci_sequence():\n",
    "    * Fibonacci sequence is a mathematical sequence of numbers\n",
    "        * The first two numbers are 1, 1\n",
    "        * Every following number is the sum of the previous two\n",
    "            * 1, 1, 2, 3, 5, 8...\n",
    "    * Ask user for input to determine how long the sequence should be \n",
    "    * Build a list of numbers based on the length given by the user\n",
    "    * Print the list\n",
    "* Call the function"
   ]
  },
  {
   "cell_type": "code",
   "execution_count": null,
   "metadata": {},
   "outputs": [],
   "source": []
  },
  {
   "cell_type": "markdown",
   "metadata": {},
   "source": [
    "# Exercise 2\n",
    "* Create a function that asks a user to choose a number\n",
    "* The function then tries to guess what the number is\n",
    "    * Gives a number\n",
    "    * Asks the user if it is correct\n",
    "    * If it is not correct, ask if it is higher or lower\n",
    "    * Add/subtract 1 based on higher/lower and try again\n",
    "* Call the function"
   ]
  },
  {
   "cell_type": "code",
   "execution_count": null,
   "metadata": {},
   "outputs": [],
   "source": []
  },
  {
   "cell_type": "markdown",
   "metadata": {},
   "source": [
    "# Exercise 3\n",
    "* Create a function that checks the strength of a password\n",
    "    * Use a loop to continually ask for a new password to check\n",
    "        * If a user enters 'stop', break the loop and end the function\n",
    "    * Initialize (create) a variable that will be used to track the 'strength' of the password\n",
    "        * strength = 0\n",
    "        * Max value should be 4\n",
    "    * Check the contents of the string for specific conditions\n",
    "        * For every check that passes, add 1 to the 'strength' variable\n",
    "        * Check for:\n",
    "            * Letters\n",
    "            * Numbers\n",
    "            * Special characters (!@#$%^&*()?[]{})\n",
    "            * Make sure that the string is at least 8 characters\n",
    "                * All sequence objects have a len() function that returns the length of the object\n",
    "    * Based on the value of 'strength' return a string\n",
    "        * 'very weak'\n",
    "        * 'weak'\n",
    "        * 'acceptable'\n",
    "        * 'strong'\n",
    "* Call the function\n",
    "        "
   ]
  },
  {
   "cell_type": "code",
   "execution_count": null,
   "metadata": {},
   "outputs": [],
   "source": []
  }
 ],
 "metadata": {
  "kernelspec": {
   "display_name": "Python 3",
   "language": "python",
   "name": "python3"
  },
  "language_info": {
   "codemirror_mode": {
    "name": "ipython",
    "version": 3
   },
   "file_extension": ".py",
   "mimetype": "text/x-python",
   "name": "python",
   "nbconvert_exporter": "python",
   "pygments_lexer": "ipython3",
   "version": "3.7.7"
  }
 },
 "nbformat": 4,
 "nbformat_minor": 4
}
